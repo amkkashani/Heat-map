{
 "cells": [
  {
   "cell_type": "code",
   "execution_count": 20,
   "metadata": {
    "collapsed": true,
    "pycharm": {
     "name": "#%%\n"
    }
   },
   "outputs": [],
   "source": [
    "import numpy as np\n",
    "import  pandas as pd\n",
    "import glob"
   ]
  },
  {
   "cell_type": "markdown",
   "source": [
    "Read entire logs"
   ],
   "metadata": {
    "collapsed": false,
    "pycharm": {
     "name": "#%% md\n"
    }
   }
  },
  {
   "cell_type": "code",
   "execution_count": 21,
   "outputs": [
    {
     "name": "stderr",
     "output_type": "stream",
     "text": [
      "C:\\Users\\KASHANI\\AppData\\Local\\Temp\\ipykernel_27256\\480640357.py:13: FutureWarning: The frame.append method is deprecated and will be removed from pandas in a future version. Use pandas.concat instead.\n",
      "  combined_df = combined_df.append(df, ignore_index=True)\n",
      "C:\\Users\\KASHANI\\AppData\\Local\\Temp\\ipykernel_27256\\480640357.py:13: FutureWarning: The frame.append method is deprecated and will be removed from pandas in a future version. Use pandas.concat instead.\n",
      "  combined_df = combined_df.append(df, ignore_index=True)\n",
      "C:\\Users\\KASHANI\\AppData\\Local\\Temp\\ipykernel_27256\\480640357.py:13: FutureWarning: The frame.append method is deprecated and will be removed from pandas in a future version. Use pandas.concat instead.\n",
      "  combined_df = combined_df.append(df, ignore_index=True)\n",
      "C:\\Users\\KASHANI\\AppData\\Local\\Temp\\ipykernel_27256\\480640357.py:13: FutureWarning: The frame.append method is deprecated and will be removed from pandas in a future version. Use pandas.concat instead.\n",
      "  combined_df = combined_df.append(df, ignore_index=True)\n",
      "C:\\Users\\KASHANI\\AppData\\Local\\Temp\\ipykernel_27256\\480640357.py:13: FutureWarning: The frame.append method is deprecated and will be removed from pandas in a future version. Use pandas.concat instead.\n",
      "  combined_df = combined_df.append(df, ignore_index=True)\n",
      "C:\\Users\\KASHANI\\AppData\\Local\\Temp\\ipykernel_27256\\480640357.py:13: FutureWarning: The frame.append method is deprecated and will be removed from pandas in a future version. Use pandas.concat instead.\n",
      "  combined_df = combined_df.append(df, ignore_index=True)\n",
      "C:\\Users\\KASHANI\\AppData\\Local\\Temp\\ipykernel_27256\\480640357.py:13: FutureWarning: The frame.append method is deprecated and will be removed from pandas in a future version. Use pandas.concat instead.\n",
      "  combined_df = combined_df.append(df, ignore_index=True)\n",
      "C:\\Users\\KASHANI\\AppData\\Local\\Temp\\ipykernel_27256\\480640357.py:13: FutureWarning: The frame.append method is deprecated and will be removed from pandas in a future version. Use pandas.concat instead.\n",
      "  combined_df = combined_df.append(df, ignore_index=True)\n"
     ]
    },
    {
     "data": {
      "text/plain": "                     Name         X         Y         Z  \\\n0            Van(Clone)_4 -571.2328 -0.472852 -201.1151   \n1            Van(Clone)_4 -570.9661 -0.495205 -201.4088   \n2            Van(Clone)_4 -570.6721 -0.498545 -201.7328   \n3            Van(Clone)_4 -570.3505 -0.487362 -202.0869   \n4            Van(Clone)_4 -570.0015 -0.474657 -202.4712   \n...                   ...       ...       ...       ...   \n100296  humanCasual 4_1   -163.9210 -1.581898  658.0048   \n100297  humanCasual 4_1   -163.9210 -1.581898  658.0048   \n100298  humanCasual 4_1   -163.9210 -1.581898  658.0048   \n100299  humanCasual 4_1   -163.9210 -1.581898  658.0048   \n100300  humanCasual 4_1   -163.9210 -1.581898  658.0048   \n\n                            Time  Frame Box_State   Sensor Names   \\\n0       2024-03-16 22:40:09.950      23    Yellow  RSU_cross1_s1|   \n1       2024-03-16 22:40:10.068      28    Yellow  RSU_cross1_s1|   \n2       2024-03-16 22:40:10.183      33    Yellow  RSU_cross1_s1|   \n3       2024-03-16 22:40:10.298      38    Yellow  RSU_cross1_s1|   \n4       2024-03-16 22:40:10.416      43    Yellow  RSU_cross1_s1|   \n...                          ...    ...       ...             ...   \n100296  2024-03-16 22:05:45.177    1317    Yellow             NaN   \n100297  2024-03-16 22:05:45.212    1317    Yellow             NaN   \n100298  2024-03-16 22:05:45.273    1317    Yellow             NaN   \n100299  2024-03-16 22:05:45.307    1317    Yellow             NaN   \n100300  2024-03-16 22:05:45.343    1317    Yellow             NaN   \n\n                                             Sensor Names  \n0                                                     NaN  \n1                                                     NaN  \n2                                                     NaN  \n3                                                     NaN  \n4                                                     NaN  \n...                                                   ...  \n100296  RSU_cam_cross4_c3|RSU_cam_cross4_c3|RSU_cam_cr...  \n100297  RSU_cam_cross4_c3|RSU_cam_cross4_c3|RSU_cam_cr...  \n100298  RSU_cam_cross4_c3|RSU_cam_cross4_c3|RSU_cam_cr...  \n100299  RSU_cam_cross4_c3|RSU_cam_cross4_c3|RSU_cam_cr...  \n100300  RSU_cam_cross4_c3|RSU_cam_cross4_c3|RSU_cam_cr...  \n\n[100301 rows x 9 columns]",
      "text/html": "<div>\n<style scoped>\n    .dataframe tbody tr th:only-of-type {\n        vertical-align: middle;\n    }\n\n    .dataframe tbody tr th {\n        vertical-align: top;\n    }\n\n    .dataframe thead th {\n        text-align: right;\n    }\n</style>\n<table border=\"1\" class=\"dataframe\">\n  <thead>\n    <tr style=\"text-align: right;\">\n      <th></th>\n      <th>Name</th>\n      <th>X</th>\n      <th>Y</th>\n      <th>Z</th>\n      <th>Time</th>\n      <th>Frame</th>\n      <th>Box_State</th>\n      <th>Sensor Names</th>\n      <th>Sensor Names</th>\n    </tr>\n  </thead>\n  <tbody>\n    <tr>\n      <th>0</th>\n      <td>Van(Clone)_4</td>\n      <td>-571.2328</td>\n      <td>-0.472852</td>\n      <td>-201.1151</td>\n      <td>2024-03-16 22:40:09.950</td>\n      <td>23</td>\n      <td>Yellow</td>\n      <td>RSU_cross1_s1|</td>\n      <td>NaN</td>\n    </tr>\n    <tr>\n      <th>1</th>\n      <td>Van(Clone)_4</td>\n      <td>-570.9661</td>\n      <td>-0.495205</td>\n      <td>-201.4088</td>\n      <td>2024-03-16 22:40:10.068</td>\n      <td>28</td>\n      <td>Yellow</td>\n      <td>RSU_cross1_s1|</td>\n      <td>NaN</td>\n    </tr>\n    <tr>\n      <th>2</th>\n      <td>Van(Clone)_4</td>\n      <td>-570.6721</td>\n      <td>-0.498545</td>\n      <td>-201.7328</td>\n      <td>2024-03-16 22:40:10.183</td>\n      <td>33</td>\n      <td>Yellow</td>\n      <td>RSU_cross1_s1|</td>\n      <td>NaN</td>\n    </tr>\n    <tr>\n      <th>3</th>\n      <td>Van(Clone)_4</td>\n      <td>-570.3505</td>\n      <td>-0.487362</td>\n      <td>-202.0869</td>\n      <td>2024-03-16 22:40:10.298</td>\n      <td>38</td>\n      <td>Yellow</td>\n      <td>RSU_cross1_s1|</td>\n      <td>NaN</td>\n    </tr>\n    <tr>\n      <th>4</th>\n      <td>Van(Clone)_4</td>\n      <td>-570.0015</td>\n      <td>-0.474657</td>\n      <td>-202.4712</td>\n      <td>2024-03-16 22:40:10.416</td>\n      <td>43</td>\n      <td>Yellow</td>\n      <td>RSU_cross1_s1|</td>\n      <td>NaN</td>\n    </tr>\n    <tr>\n      <th>...</th>\n      <td>...</td>\n      <td>...</td>\n      <td>...</td>\n      <td>...</td>\n      <td>...</td>\n      <td>...</td>\n      <td>...</td>\n      <td>...</td>\n      <td>...</td>\n    </tr>\n    <tr>\n      <th>100296</th>\n      <td>humanCasual 4_1</td>\n      <td>-163.9210</td>\n      <td>-1.581898</td>\n      <td>658.0048</td>\n      <td>2024-03-16 22:05:45.177</td>\n      <td>1317</td>\n      <td>Yellow</td>\n      <td>NaN</td>\n      <td>RSU_cam_cross4_c3|RSU_cam_cross4_c3|RSU_cam_cr...</td>\n    </tr>\n    <tr>\n      <th>100297</th>\n      <td>humanCasual 4_1</td>\n      <td>-163.9210</td>\n      <td>-1.581898</td>\n      <td>658.0048</td>\n      <td>2024-03-16 22:05:45.212</td>\n      <td>1317</td>\n      <td>Yellow</td>\n      <td>NaN</td>\n      <td>RSU_cam_cross4_c3|RSU_cam_cross4_c3|RSU_cam_cr...</td>\n    </tr>\n    <tr>\n      <th>100298</th>\n      <td>humanCasual 4_1</td>\n      <td>-163.9210</td>\n      <td>-1.581898</td>\n      <td>658.0048</td>\n      <td>2024-03-16 22:05:45.273</td>\n      <td>1317</td>\n      <td>Yellow</td>\n      <td>NaN</td>\n      <td>RSU_cam_cross4_c3|RSU_cam_cross4_c3|RSU_cam_cr...</td>\n    </tr>\n    <tr>\n      <th>100299</th>\n      <td>humanCasual 4_1</td>\n      <td>-163.9210</td>\n      <td>-1.581898</td>\n      <td>658.0048</td>\n      <td>2024-03-16 22:05:45.307</td>\n      <td>1317</td>\n      <td>Yellow</td>\n      <td>NaN</td>\n      <td>RSU_cam_cross4_c3|RSU_cam_cross4_c3|RSU_cam_cr...</td>\n    </tr>\n    <tr>\n      <th>100300</th>\n      <td>humanCasual 4_1</td>\n      <td>-163.9210</td>\n      <td>-1.581898</td>\n      <td>658.0048</td>\n      <td>2024-03-16 22:05:45.343</td>\n      <td>1317</td>\n      <td>Yellow</td>\n      <td>NaN</td>\n      <td>RSU_cam_cross4_c3|RSU_cam_cross4_c3|RSU_cam_cr...</td>\n    </tr>\n  </tbody>\n</table>\n<p>100301 rows × 9 columns</p>\n</div>"
     },
     "execution_count": 21,
     "metadata": {},
     "output_type": "execute_result"
    }
   ],
   "source": [
    "# Define the directory path where your CSV files are stored\n",
    "directory_path = './saved_logs/try3_without bus/'\n",
    "\n",
    "# Use glob to find all the CSV files in the directory\n",
    "csv_files = glob.glob(f\"{directory_path}/*.csv\")\n",
    "\n",
    "# Initialize an empty DataFrame to append all CSV data\n",
    "combined_df = pd.DataFrame()\n",
    "\n",
    "# Loop through the list of csv files and append each one to the combined_df DataFrame\n",
    "for file in csv_files:\n",
    "    df = pd.read_csv(file)\n",
    "    combined_df = combined_df.append(df, ignore_index=True)\n",
    "\n",
    "df = combined_df\n",
    "df"
   ],
   "metadata": {
    "collapsed": false,
    "pycharm": {
     "name": "#%%\n"
    }
   }
  },
  {
   "cell_type": "markdown",
   "source": [
    "# old version for single car"
   ],
   "metadata": {
    "collapsed": false,
    "pycharm": {
     "name": "#%% md\n"
    }
   }
  },
  {
   "cell_type": "code",
   "execution_count": 22,
   "outputs": [
    {
     "data": {
      "text/plain": "                                           Name         X         Y         Z  \\\n0      Sepeda Facific Invert3 Variant 1 Variant  35.15998  0.490000 -40.78000   \n1                       humanCasual (3) Variant  36.99415  0.533508 -39.71268   \n2      Sepeda Facific Invert3 Variant 1 Variant  35.15998  0.490000 -40.78000   \n3                       humanCasual (3) Variant  36.99415  0.533508 -39.71268   \n4      Sepeda Facific Invert3 Variant 1 Variant  35.15998  0.490000 -40.78000   \n...                                         ...       ...       ...       ...   \n21165                   humanCasual (3) Variant  36.56913  0.533413 -38.75212   \n21166  Sepeda Facific Invert3 Variant 1 Variant  35.15999  0.449761 -40.78001   \n21167                   humanCasual (3) Variant  36.63888  0.533413 -38.90936   \n21168  Sepeda Facific Invert3 Variant 1 Variant  35.15999  0.449761 -40.78001   \n21169                   humanCasual (3) Variant  36.71554  0.533413 -39.08340   \n\n                           Time   Frame   Box_State  \\\n0      2024-02-08 00:36:25.844        26     Yellow   \n1      2024-02-08 00:36:25.848        26     Yellow   \n2      2024-02-08 00:36:25.894        46     Yellow   \n3      2024-02-08 00:36:25.895        46     Yellow   \n4      2024-02-08 00:36:25.946        64     Yellow   \n...                         ...      ...        ...   \n21165  2024-02-08 00:45:11.547     11815     Yellow   \n21166  2024-02-08 00:45:11.619     11816     Yellow   \n21167  2024-02-08 00:45:11.649     11816     Yellow   \n21168  2024-02-08 00:45:11.768     11817     Yellow   \n21169  2024-02-08 00:45:11.854     11817     Yellow   \n\n                                           Sensor Names   \n0              RSU_cross2|RSU_cam_cross2|RSU_cam_cross2|  \n1              RSU_cross2|RSU_cam_cross2|RSU_cam_cross2|  \n2              RSU_cross2|RSU_cam_cross2|RSU_cam_cross2|  \n3              RSU_cross2|RSU_cam_cross2|RSU_cam_cross2|  \n4      RSU_cross2|RSU_cam_cross2|RSU_cam_cross2|RSU_c...  \n...                                                  ...  \n21165  RSU_cam_cross2|RSU_cam_cross2|RSU_cam_cross2|R...  \n21166  RSU_cam_cross2|RSU_cam_cross2|RSU_cam_cross2|R...  \n21167  RSU_cam_cross2|RSU_cam_cross2|RSU_cam_cross2|R...  \n21168  RSU_cam_cross2|RSU_cam_cross2|RSU_cam_cross2|R...  \n21169  RSU_cam_cross2|RSU_cam_cross2|RSU_cam_cross2|R...  \n\n[21170 rows x 8 columns]",
      "text/html": "<div>\n<style scoped>\n    .dataframe tbody tr th:only-of-type {\n        vertical-align: middle;\n    }\n\n    .dataframe tbody tr th {\n        vertical-align: top;\n    }\n\n    .dataframe thead th {\n        text-align: right;\n    }\n</style>\n<table border=\"1\" class=\"dataframe\">\n  <thead>\n    <tr style=\"text-align: right;\">\n      <th></th>\n      <th>Name</th>\n      <th>X</th>\n      <th>Y</th>\n      <th>Z</th>\n      <th>Time</th>\n      <th>Frame</th>\n      <th>Box_State</th>\n      <th>Sensor Names</th>\n    </tr>\n  </thead>\n  <tbody>\n    <tr>\n      <th>0</th>\n      <td>Sepeda Facific Invert3 Variant 1 Variant</td>\n      <td>35.15998</td>\n      <td>0.490000</td>\n      <td>-40.78000</td>\n      <td>2024-02-08 00:36:25.844</td>\n      <td>26</td>\n      <td>Yellow</td>\n      <td>RSU_cross2|RSU_cam_cross2|RSU_cam_cross2|</td>\n    </tr>\n    <tr>\n      <th>1</th>\n      <td>humanCasual (3) Variant</td>\n      <td>36.99415</td>\n      <td>0.533508</td>\n      <td>-39.71268</td>\n      <td>2024-02-08 00:36:25.848</td>\n      <td>26</td>\n      <td>Yellow</td>\n      <td>RSU_cross2|RSU_cam_cross2|RSU_cam_cross2|</td>\n    </tr>\n    <tr>\n      <th>2</th>\n      <td>Sepeda Facific Invert3 Variant 1 Variant</td>\n      <td>35.15998</td>\n      <td>0.490000</td>\n      <td>-40.78000</td>\n      <td>2024-02-08 00:36:25.894</td>\n      <td>46</td>\n      <td>Yellow</td>\n      <td>RSU_cross2|RSU_cam_cross2|RSU_cam_cross2|</td>\n    </tr>\n    <tr>\n      <th>3</th>\n      <td>humanCasual (3) Variant</td>\n      <td>36.99415</td>\n      <td>0.533508</td>\n      <td>-39.71268</td>\n      <td>2024-02-08 00:36:25.895</td>\n      <td>46</td>\n      <td>Yellow</td>\n      <td>RSU_cross2|RSU_cam_cross2|RSU_cam_cross2|</td>\n    </tr>\n    <tr>\n      <th>4</th>\n      <td>Sepeda Facific Invert3 Variant 1 Variant</td>\n      <td>35.15998</td>\n      <td>0.490000</td>\n      <td>-40.78000</td>\n      <td>2024-02-08 00:36:25.946</td>\n      <td>64</td>\n      <td>Yellow</td>\n      <td>RSU_cross2|RSU_cam_cross2|RSU_cam_cross2|RSU_c...</td>\n    </tr>\n    <tr>\n      <th>...</th>\n      <td>...</td>\n      <td>...</td>\n      <td>...</td>\n      <td>...</td>\n      <td>...</td>\n      <td>...</td>\n      <td>...</td>\n      <td>...</td>\n    </tr>\n    <tr>\n      <th>21165</th>\n      <td>humanCasual (3) Variant</td>\n      <td>36.56913</td>\n      <td>0.533413</td>\n      <td>-38.75212</td>\n      <td>2024-02-08 00:45:11.547</td>\n      <td>11815</td>\n      <td>Yellow</td>\n      <td>RSU_cam_cross2|RSU_cam_cross2|RSU_cam_cross2|R...</td>\n    </tr>\n    <tr>\n      <th>21166</th>\n      <td>Sepeda Facific Invert3 Variant 1 Variant</td>\n      <td>35.15999</td>\n      <td>0.449761</td>\n      <td>-40.78001</td>\n      <td>2024-02-08 00:45:11.619</td>\n      <td>11816</td>\n      <td>Yellow</td>\n      <td>RSU_cam_cross2|RSU_cam_cross2|RSU_cam_cross2|R...</td>\n    </tr>\n    <tr>\n      <th>21167</th>\n      <td>humanCasual (3) Variant</td>\n      <td>36.63888</td>\n      <td>0.533413</td>\n      <td>-38.90936</td>\n      <td>2024-02-08 00:45:11.649</td>\n      <td>11816</td>\n      <td>Yellow</td>\n      <td>RSU_cam_cross2|RSU_cam_cross2|RSU_cam_cross2|R...</td>\n    </tr>\n    <tr>\n      <th>21168</th>\n      <td>Sepeda Facific Invert3 Variant 1 Variant</td>\n      <td>35.15999</td>\n      <td>0.449761</td>\n      <td>-40.78001</td>\n      <td>2024-02-08 00:45:11.768</td>\n      <td>11817</td>\n      <td>Yellow</td>\n      <td>RSU_cam_cross2|RSU_cam_cross2|RSU_cam_cross2|R...</td>\n    </tr>\n    <tr>\n      <th>21169</th>\n      <td>humanCasual (3) Variant</td>\n      <td>36.71554</td>\n      <td>0.533413</td>\n      <td>-39.08340</td>\n      <td>2024-02-08 00:45:11.854</td>\n      <td>11817</td>\n      <td>Yellow</td>\n      <td>RSU_cam_cross2|RSU_cam_cross2|RSU_cam_cross2|R...</td>\n    </tr>\n  </tbody>\n</table>\n<p>21170 rows × 8 columns</p>\n</div>"
     },
     "execution_count": 22,
     "metadata": {},
     "output_type": "execute_result"
    }
   ],
   "source": [
    "cars = pd.read_csv('CarsC2.csv')\n",
    "cars"
   ],
   "metadata": {
    "collapsed": false,
    "pycharm": {
     "name": "#%%\n"
    }
   }
  },
  {
   "cell_type": "code",
   "execution_count": 3,
   "outputs": [
    {
     "data": {
      "text/plain": "                          Name         X         Y         Z  \\\n1      humanCasual (3) Variant  36.99415  0.533508 -39.71268   \n3      humanCasual (3) Variant  36.99415  0.533508 -39.71268   \n5      humanCasual (3) Variant  36.99415  0.533508 -39.71268   \n7      humanCasual (3) Variant  36.99415  0.533508 -39.71268   \n9      humanCasual (3) Variant  36.99415  0.533508 -39.71268   \n...                        ...       ...       ...       ...   \n21161  humanCasual (3) Variant  36.40762  0.533412 -38.38403   \n21163  humanCasual (3) Variant  36.50370  0.533412 -38.60340   \n21165  humanCasual (3) Variant  36.56913  0.533413 -38.75212   \n21167  humanCasual (3) Variant  36.63888  0.533413 -38.90936   \n21169  humanCasual (3) Variant  36.71554  0.533413 -39.08340   \n\n                           Time   Frame   Box_State  \\\n1      2024-02-08 00:36:25.848        26     Yellow   \n3      2024-02-08 00:36:25.895        46     Yellow   \n5      2024-02-08 00:36:25.947        64     Yellow   \n7      2024-02-08 00:36:25.997        83     Yellow   \n9      2024-02-08 00:36:26.048       102     Yellow   \n...                         ...      ...        ...   \n21161  2024-02-08 00:45:11.329     11813     Yellow   \n21163  2024-02-08 00:45:11.431     11814     Yellow   \n21165  2024-02-08 00:45:11.547     11815     Yellow   \n21167  2024-02-08 00:45:11.649     11816     Yellow   \n21169  2024-02-08 00:45:11.854     11817     Yellow   \n\n                                           Sensor Names   \n1              RSU_cross2|RSU_cam_cross2|RSU_cam_cross2|  \n3              RSU_cross2|RSU_cam_cross2|RSU_cam_cross2|  \n5      RSU_cross2|RSU_cam_cross2|RSU_cam_cross2|RSU_c...  \n7      RSU_cross2|RSU_cam_cross2|RSU_cam_cross2|RSU_c...  \n9      RSU_cross2|RSU_cam_cross2|RSU_cam_cross2|RSU_c...  \n...                                                  ...  \n21161  RSU_cam_cross2|RSU_cam_cross2|RSU_cam_cross2|R...  \n21163  RSU_cam_cross2|RSU_cam_cross2|RSU_cam_cross2|R...  \n21165  RSU_cam_cross2|RSU_cam_cross2|RSU_cam_cross2|R...  \n21167  RSU_cam_cross2|RSU_cam_cross2|RSU_cam_cross2|R...  \n21169  RSU_cam_cross2|RSU_cam_cross2|RSU_cam_cross2|R...  \n\n[14023 rows x 8 columns]",
      "text/html": "<div>\n<style scoped>\n    .dataframe tbody tr th:only-of-type {\n        vertical-align: middle;\n    }\n\n    .dataframe tbody tr th {\n        vertical-align: top;\n    }\n\n    .dataframe thead th {\n        text-align: right;\n    }\n</style>\n<table border=\"1\" class=\"dataframe\">\n  <thead>\n    <tr style=\"text-align: right;\">\n      <th></th>\n      <th>Name</th>\n      <th>X</th>\n      <th>Y</th>\n      <th>Z</th>\n      <th>Time</th>\n      <th>Frame</th>\n      <th>Box_State</th>\n      <th>Sensor Names</th>\n    </tr>\n  </thead>\n  <tbody>\n    <tr>\n      <th>1</th>\n      <td>humanCasual (3) Variant</td>\n      <td>36.99415</td>\n      <td>0.533508</td>\n      <td>-39.71268</td>\n      <td>2024-02-08 00:36:25.848</td>\n      <td>26</td>\n      <td>Yellow</td>\n      <td>RSU_cross2|RSU_cam_cross2|RSU_cam_cross2|</td>\n    </tr>\n    <tr>\n      <th>3</th>\n      <td>humanCasual (3) Variant</td>\n      <td>36.99415</td>\n      <td>0.533508</td>\n      <td>-39.71268</td>\n      <td>2024-02-08 00:36:25.895</td>\n      <td>46</td>\n      <td>Yellow</td>\n      <td>RSU_cross2|RSU_cam_cross2|RSU_cam_cross2|</td>\n    </tr>\n    <tr>\n      <th>5</th>\n      <td>humanCasual (3) Variant</td>\n      <td>36.99415</td>\n      <td>0.533508</td>\n      <td>-39.71268</td>\n      <td>2024-02-08 00:36:25.947</td>\n      <td>64</td>\n      <td>Yellow</td>\n      <td>RSU_cross2|RSU_cam_cross2|RSU_cam_cross2|RSU_c...</td>\n    </tr>\n    <tr>\n      <th>7</th>\n      <td>humanCasual (3) Variant</td>\n      <td>36.99415</td>\n      <td>0.533508</td>\n      <td>-39.71268</td>\n      <td>2024-02-08 00:36:25.997</td>\n      <td>83</td>\n      <td>Yellow</td>\n      <td>RSU_cross2|RSU_cam_cross2|RSU_cam_cross2|RSU_c...</td>\n    </tr>\n    <tr>\n      <th>9</th>\n      <td>humanCasual (3) Variant</td>\n      <td>36.99415</td>\n      <td>0.533508</td>\n      <td>-39.71268</td>\n      <td>2024-02-08 00:36:26.048</td>\n      <td>102</td>\n      <td>Yellow</td>\n      <td>RSU_cross2|RSU_cam_cross2|RSU_cam_cross2|RSU_c...</td>\n    </tr>\n    <tr>\n      <th>...</th>\n      <td>...</td>\n      <td>...</td>\n      <td>...</td>\n      <td>...</td>\n      <td>...</td>\n      <td>...</td>\n      <td>...</td>\n      <td>...</td>\n    </tr>\n    <tr>\n      <th>21161</th>\n      <td>humanCasual (3) Variant</td>\n      <td>36.40762</td>\n      <td>0.533412</td>\n      <td>-38.38403</td>\n      <td>2024-02-08 00:45:11.329</td>\n      <td>11813</td>\n      <td>Yellow</td>\n      <td>RSU_cam_cross2|RSU_cam_cross2|RSU_cam_cross2|R...</td>\n    </tr>\n    <tr>\n      <th>21163</th>\n      <td>humanCasual (3) Variant</td>\n      <td>36.50370</td>\n      <td>0.533412</td>\n      <td>-38.60340</td>\n      <td>2024-02-08 00:45:11.431</td>\n      <td>11814</td>\n      <td>Yellow</td>\n      <td>RSU_cam_cross2|RSU_cam_cross2|RSU_cam_cross2|R...</td>\n    </tr>\n    <tr>\n      <th>21165</th>\n      <td>humanCasual (3) Variant</td>\n      <td>36.56913</td>\n      <td>0.533413</td>\n      <td>-38.75212</td>\n      <td>2024-02-08 00:45:11.547</td>\n      <td>11815</td>\n      <td>Yellow</td>\n      <td>RSU_cam_cross2|RSU_cam_cross2|RSU_cam_cross2|R...</td>\n    </tr>\n    <tr>\n      <th>21167</th>\n      <td>humanCasual (3) Variant</td>\n      <td>36.63888</td>\n      <td>0.533413</td>\n      <td>-38.90936</td>\n      <td>2024-02-08 00:45:11.649</td>\n      <td>11816</td>\n      <td>Yellow</td>\n      <td>RSU_cam_cross2|RSU_cam_cross2|RSU_cam_cross2|R...</td>\n    </tr>\n    <tr>\n      <th>21169</th>\n      <td>humanCasual (3) Variant</td>\n      <td>36.71554</td>\n      <td>0.533413</td>\n      <td>-39.08340</td>\n      <td>2024-02-08 00:45:11.854</td>\n      <td>11817</td>\n      <td>Yellow</td>\n      <td>RSU_cam_cross2|RSU_cam_cross2|RSU_cam_cross2|R...</td>\n    </tr>\n  </tbody>\n</table>\n<p>14023 rows × 8 columns</p>\n</div>"
     },
     "execution_count": 3,
     "metadata": {},
     "output_type": "execute_result"
    }
   ],
   "source": [
    "cars = cars[cars[' Box_State'].notna()]\n",
    "cars = cars[cars['Name'] != \"Sepeda Facific Invert3 Variant 1 Variant\"]\n",
    "cars"
   ],
   "metadata": {
    "collapsed": false,
    "pycharm": {
     "name": "#%%\n"
    }
   }
  },
  {
   "cell_type": "code",
   "execution_count": 4,
   "outputs": [
    {
     "data": {
      "text/plain": "                          Name         X         Y         Z  \\\n1      humanCasual (3) Variant  36.99415  0.533508 -39.71268   \n3      humanCasual (3) Variant  36.99415  0.533508 -39.71268   \n5      humanCasual (3) Variant  36.99415  0.533508 -39.71268   \n7      humanCasual (3) Variant  36.99415  0.533508 -39.71268   \n9      humanCasual (3) Variant  36.99415  0.533508 -39.71268   \n...                        ...       ...       ...       ...   \n21161  humanCasual (3) Variant  36.40762  0.533412 -38.38403   \n21163  humanCasual (3) Variant  36.50370  0.533412 -38.60340   \n21165  humanCasual (3) Variant  36.56913  0.533413 -38.75212   \n21167  humanCasual (3) Variant  36.63888  0.533413 -38.90936   \n21169  humanCasual (3) Variant  36.71554  0.533413 -39.08340   \n\n                           Time   Frame   Box_State  \\\n1      2024-02-08 00:36:25.848        26     Yellow   \n3      2024-02-08 00:36:25.895        46     Yellow   \n5      2024-02-08 00:36:25.947        64     Yellow   \n7      2024-02-08 00:36:25.997        83     Yellow   \n9      2024-02-08 00:36:26.048       102     Yellow   \n...                         ...      ...        ...   \n21161  2024-02-08 00:45:11.329     11813     Yellow   \n21163  2024-02-08 00:45:11.431     11814     Yellow   \n21165  2024-02-08 00:45:11.547     11815     Yellow   \n21167  2024-02-08 00:45:11.649     11816     Yellow   \n21169  2024-02-08 00:45:11.854     11817     Yellow   \n\n                                           Sensor Names   \n1              RSU_cross2|RSU_cam_cross2|RSU_cam_cross2|  \n3              RSU_cross2|RSU_cam_cross2|RSU_cam_cross2|  \n5      RSU_cross2|RSU_cam_cross2|RSU_cam_cross2|RSU_c...  \n7      RSU_cross2|RSU_cam_cross2|RSU_cam_cross2|RSU_c...  \n9      RSU_cross2|RSU_cam_cross2|RSU_cam_cross2|RSU_c...  \n...                                                  ...  \n21161  RSU_cam_cross2|RSU_cam_cross2|RSU_cam_cross2|R...  \n21163  RSU_cam_cross2|RSU_cam_cross2|RSU_cam_cross2|R...  \n21165  RSU_cam_cross2|RSU_cam_cross2|RSU_cam_cross2|R...  \n21167  RSU_cam_cross2|RSU_cam_cross2|RSU_cam_cross2|R...  \n21169  RSU_cam_cross2|RSU_cam_cross2|RSU_cam_cross2|R...  \n\n[14023 rows x 8 columns]",
      "text/html": "<div>\n<style scoped>\n    .dataframe tbody tr th:only-of-type {\n        vertical-align: middle;\n    }\n\n    .dataframe tbody tr th {\n        vertical-align: top;\n    }\n\n    .dataframe thead th {\n        text-align: right;\n    }\n</style>\n<table border=\"1\" class=\"dataframe\">\n  <thead>\n    <tr style=\"text-align: right;\">\n      <th></th>\n      <th>Name</th>\n      <th>X</th>\n      <th>Y</th>\n      <th>Z</th>\n      <th>Time</th>\n      <th>Frame</th>\n      <th>Box_State</th>\n      <th>Sensor Names</th>\n    </tr>\n  </thead>\n  <tbody>\n    <tr>\n      <th>1</th>\n      <td>humanCasual (3) Variant</td>\n      <td>36.99415</td>\n      <td>0.533508</td>\n      <td>-39.71268</td>\n      <td>2024-02-08 00:36:25.848</td>\n      <td>26</td>\n      <td>Yellow</td>\n      <td>RSU_cross2|RSU_cam_cross2|RSU_cam_cross2|</td>\n    </tr>\n    <tr>\n      <th>3</th>\n      <td>humanCasual (3) Variant</td>\n      <td>36.99415</td>\n      <td>0.533508</td>\n      <td>-39.71268</td>\n      <td>2024-02-08 00:36:25.895</td>\n      <td>46</td>\n      <td>Yellow</td>\n      <td>RSU_cross2|RSU_cam_cross2|RSU_cam_cross2|</td>\n    </tr>\n    <tr>\n      <th>5</th>\n      <td>humanCasual (3) Variant</td>\n      <td>36.99415</td>\n      <td>0.533508</td>\n      <td>-39.71268</td>\n      <td>2024-02-08 00:36:25.947</td>\n      <td>64</td>\n      <td>Yellow</td>\n      <td>RSU_cross2|RSU_cam_cross2|RSU_cam_cross2|RSU_c...</td>\n    </tr>\n    <tr>\n      <th>7</th>\n      <td>humanCasual (3) Variant</td>\n      <td>36.99415</td>\n      <td>0.533508</td>\n      <td>-39.71268</td>\n      <td>2024-02-08 00:36:25.997</td>\n      <td>83</td>\n      <td>Yellow</td>\n      <td>RSU_cross2|RSU_cam_cross2|RSU_cam_cross2|RSU_c...</td>\n    </tr>\n    <tr>\n      <th>9</th>\n      <td>humanCasual (3) Variant</td>\n      <td>36.99415</td>\n      <td>0.533508</td>\n      <td>-39.71268</td>\n      <td>2024-02-08 00:36:26.048</td>\n      <td>102</td>\n      <td>Yellow</td>\n      <td>RSU_cross2|RSU_cam_cross2|RSU_cam_cross2|RSU_c...</td>\n    </tr>\n    <tr>\n      <th>...</th>\n      <td>...</td>\n      <td>...</td>\n      <td>...</td>\n      <td>...</td>\n      <td>...</td>\n      <td>...</td>\n      <td>...</td>\n      <td>...</td>\n    </tr>\n    <tr>\n      <th>21161</th>\n      <td>humanCasual (3) Variant</td>\n      <td>36.40762</td>\n      <td>0.533412</td>\n      <td>-38.38403</td>\n      <td>2024-02-08 00:45:11.329</td>\n      <td>11813</td>\n      <td>Yellow</td>\n      <td>RSU_cam_cross2|RSU_cam_cross2|RSU_cam_cross2|R...</td>\n    </tr>\n    <tr>\n      <th>21163</th>\n      <td>humanCasual (3) Variant</td>\n      <td>36.50370</td>\n      <td>0.533412</td>\n      <td>-38.60340</td>\n      <td>2024-02-08 00:45:11.431</td>\n      <td>11814</td>\n      <td>Yellow</td>\n      <td>RSU_cam_cross2|RSU_cam_cross2|RSU_cam_cross2|R...</td>\n    </tr>\n    <tr>\n      <th>21165</th>\n      <td>humanCasual (3) Variant</td>\n      <td>36.56913</td>\n      <td>0.533413</td>\n      <td>-38.75212</td>\n      <td>2024-02-08 00:45:11.547</td>\n      <td>11815</td>\n      <td>Yellow</td>\n      <td>RSU_cam_cross2|RSU_cam_cross2|RSU_cam_cross2|R...</td>\n    </tr>\n    <tr>\n      <th>21167</th>\n      <td>humanCasual (3) Variant</td>\n      <td>36.63888</td>\n      <td>0.533413</td>\n      <td>-38.90936</td>\n      <td>2024-02-08 00:45:11.649</td>\n      <td>11816</td>\n      <td>Yellow</td>\n      <td>RSU_cam_cross2|RSU_cam_cross2|RSU_cam_cross2|R...</td>\n    </tr>\n    <tr>\n      <th>21169</th>\n      <td>humanCasual (3) Variant</td>\n      <td>36.71554</td>\n      <td>0.533413</td>\n      <td>-39.08340</td>\n      <td>2024-02-08 00:45:11.854</td>\n      <td>11817</td>\n      <td>Yellow</td>\n      <td>RSU_cam_cross2|RSU_cam_cross2|RSU_cam_cross2|R...</td>\n    </tr>\n  </tbody>\n</table>\n<p>14023 rows × 8 columns</p>\n</div>"
     },
     "execution_count": 4,
     "metadata": {},
     "output_type": "execute_result"
    }
   ],
   "source": [
    "cars"
   ],
   "metadata": {
    "collapsed": false,
    "pycharm": {
     "name": "#%%\n"
    }
   }
  },
  {
   "cell_type": "code",
   "execution_count": 11,
   "outputs": [
    {
     "data": {
      "text/plain": "              X         Y         Z\n1      36.99415  0.533508 -39.71268\n3      36.99415  0.533508 -39.71268\n5      36.99415  0.533508 -39.71268\n7      36.99415  0.533508 -39.71268\n9      36.99415  0.533508 -39.71268\n...         ...       ...       ...\n21161  36.40762  0.533412 -38.38403\n21163  36.50370  0.533412 -38.60340\n21165  36.56913  0.533413 -38.75212\n21167  36.63888  0.533413 -38.90936\n21169  36.71554  0.533413 -39.08340\n\n[14023 rows x 3 columns]",
      "text/html": "<div>\n<style scoped>\n    .dataframe tbody tr th:only-of-type {\n        vertical-align: middle;\n    }\n\n    .dataframe tbody tr th {\n        vertical-align: top;\n    }\n\n    .dataframe thead th {\n        text-align: right;\n    }\n</style>\n<table border=\"1\" class=\"dataframe\">\n  <thead>\n    <tr style=\"text-align: right;\">\n      <th></th>\n      <th>X</th>\n      <th>Y</th>\n      <th>Z</th>\n    </tr>\n  </thead>\n  <tbody>\n    <tr>\n      <th>1</th>\n      <td>36.99415</td>\n      <td>0.533508</td>\n      <td>-39.71268</td>\n    </tr>\n    <tr>\n      <th>3</th>\n      <td>36.99415</td>\n      <td>0.533508</td>\n      <td>-39.71268</td>\n    </tr>\n    <tr>\n      <th>5</th>\n      <td>36.99415</td>\n      <td>0.533508</td>\n      <td>-39.71268</td>\n    </tr>\n    <tr>\n      <th>7</th>\n      <td>36.99415</td>\n      <td>0.533508</td>\n      <td>-39.71268</td>\n    </tr>\n    <tr>\n      <th>9</th>\n      <td>36.99415</td>\n      <td>0.533508</td>\n      <td>-39.71268</td>\n    </tr>\n    <tr>\n      <th>...</th>\n      <td>...</td>\n      <td>...</td>\n      <td>...</td>\n    </tr>\n    <tr>\n      <th>21161</th>\n      <td>36.40762</td>\n      <td>0.533412</td>\n      <td>-38.38403</td>\n    </tr>\n    <tr>\n      <th>21163</th>\n      <td>36.50370</td>\n      <td>0.533412</td>\n      <td>-38.60340</td>\n    </tr>\n    <tr>\n      <th>21165</th>\n      <td>36.56913</td>\n      <td>0.533413</td>\n      <td>-38.75212</td>\n    </tr>\n    <tr>\n      <th>21167</th>\n      <td>36.63888</td>\n      <td>0.533413</td>\n      <td>-38.90936</td>\n    </tr>\n    <tr>\n      <th>21169</th>\n      <td>36.71554</td>\n      <td>0.533413</td>\n      <td>-39.08340</td>\n    </tr>\n  </tbody>\n</table>\n<p>14023 rows × 3 columns</p>\n</div>"
     },
     "execution_count": 11,
     "metadata": {},
     "output_type": "execute_result"
    }
   ],
   "source": [
    "cars = cars[['X','Y','Z']]\n",
    "cars"
   ],
   "metadata": {
    "collapsed": false,
    "pycharm": {
     "name": "#%%\n"
    }
   }
  },
  {
   "cell_type": "code",
   "execution_count": 12,
   "outputs": [
    {
     "data": {
      "text/plain": "              X         Y         Z\n1     -39.71268 -36.99415  0.533508\n3     -39.71268 -36.99415  0.533508\n5     -39.71268 -36.99415  0.533508\n7     -39.71268 -36.99415  0.533508\n9     -39.71268 -36.99415  0.533508\n...         ...       ...       ...\n21161 -38.38403 -36.40762  0.533412\n21163 -38.60340 -36.50370  0.533412\n21165 -38.75212 -36.56913  0.533413\n21167 -38.90936 -36.63888  0.533413\n21169 -39.08340 -36.71554  0.533413\n\n[14023 rows x 3 columns]",
      "text/html": "<div>\n<style scoped>\n    .dataframe tbody tr th:only-of-type {\n        vertical-align: middle;\n    }\n\n    .dataframe tbody tr th {\n        vertical-align: top;\n    }\n\n    .dataframe thead th {\n        text-align: right;\n    }\n</style>\n<table border=\"1\" class=\"dataframe\">\n  <thead>\n    <tr style=\"text-align: right;\">\n      <th></th>\n      <th>X</th>\n      <th>Y</th>\n      <th>Z</th>\n    </tr>\n  </thead>\n  <tbody>\n    <tr>\n      <th>1</th>\n      <td>-39.71268</td>\n      <td>-36.99415</td>\n      <td>0.533508</td>\n    </tr>\n    <tr>\n      <th>3</th>\n      <td>-39.71268</td>\n      <td>-36.99415</td>\n      <td>0.533508</td>\n    </tr>\n    <tr>\n      <th>5</th>\n      <td>-39.71268</td>\n      <td>-36.99415</td>\n      <td>0.533508</td>\n    </tr>\n    <tr>\n      <th>7</th>\n      <td>-39.71268</td>\n      <td>-36.99415</td>\n      <td>0.533508</td>\n    </tr>\n    <tr>\n      <th>9</th>\n      <td>-39.71268</td>\n      <td>-36.99415</td>\n      <td>0.533508</td>\n    </tr>\n    <tr>\n      <th>...</th>\n      <td>...</td>\n      <td>...</td>\n      <td>...</td>\n    </tr>\n    <tr>\n      <th>21161</th>\n      <td>-38.38403</td>\n      <td>-36.40762</td>\n      <td>0.533412</td>\n    </tr>\n    <tr>\n      <th>21163</th>\n      <td>-38.60340</td>\n      <td>-36.50370</td>\n      <td>0.533412</td>\n    </tr>\n    <tr>\n      <th>21165</th>\n      <td>-38.75212</td>\n      <td>-36.56913</td>\n      <td>0.533413</td>\n    </tr>\n    <tr>\n      <th>21167</th>\n      <td>-38.90936</td>\n      <td>-36.63888</td>\n      <td>0.533413</td>\n    </tr>\n    <tr>\n      <th>21169</th>\n      <td>-39.08340</td>\n      <td>-36.71554</td>\n      <td>0.533413</td>\n    </tr>\n  </tbody>\n</table>\n<p>14023 rows × 3 columns</p>\n</div>"
     },
     "execution_count": 12,
     "metadata": {},
     "output_type": "execute_result"
    }
   ],
   "source": [
    "new_cars = pd.DataFrame({\n",
    "    'X': cars['Z'],\n",
    "    'Y': -cars['X'],\n",
    "    'Z': cars['Y']\n",
    "})\n",
    "\n",
    "new_cars\n"
   ],
   "metadata": {
    "collapsed": false,
    "pycharm": {
     "name": "#%%\n"
    }
   }
  },
  {
   "cell_type": "code",
   "execution_count": 13,
   "outputs": [
    {
     "data": {
      "text/plain": "                X            Y          Z\n1      4502.79732  72920.96585  19.113508\n3      4502.79732  72920.96585  19.113508\n5      4502.79732  72920.96585  19.113508\n7      4502.79732  72920.96585  19.113508\n9      4502.79732  72920.96585  19.113508\n...           ...          ...        ...\n21161  4504.12597  72921.55238  19.113412\n21163  4503.90660  72921.45630  19.113412\n21165  4503.75788  72921.39087  19.113413\n21167  4503.60064  72921.32112  19.113413\n21169  4503.42660  72921.24446  19.113413\n\n[14023 rows x 3 columns]",
      "text/html": "<div>\n<style scoped>\n    .dataframe tbody tr th:only-of-type {\n        vertical-align: middle;\n    }\n\n    .dataframe tbody tr th {\n        vertical-align: top;\n    }\n\n    .dataframe thead th {\n        text-align: right;\n    }\n</style>\n<table border=\"1\" class=\"dataframe\">\n  <thead>\n    <tr style=\"text-align: right;\">\n      <th></th>\n      <th>X</th>\n      <th>Y</th>\n      <th>Z</th>\n    </tr>\n  </thead>\n  <tbody>\n    <tr>\n      <th>1</th>\n      <td>4502.79732</td>\n      <td>72920.96585</td>\n      <td>19.113508</td>\n    </tr>\n    <tr>\n      <th>3</th>\n      <td>4502.79732</td>\n      <td>72920.96585</td>\n      <td>19.113508</td>\n    </tr>\n    <tr>\n      <th>5</th>\n      <td>4502.79732</td>\n      <td>72920.96585</td>\n      <td>19.113508</td>\n    </tr>\n    <tr>\n      <th>7</th>\n      <td>4502.79732</td>\n      <td>72920.96585</td>\n      <td>19.113508</td>\n    </tr>\n    <tr>\n      <th>9</th>\n      <td>4502.79732</td>\n      <td>72920.96585</td>\n      <td>19.113508</td>\n    </tr>\n    <tr>\n      <th>...</th>\n      <td>...</td>\n      <td>...</td>\n      <td>...</td>\n    </tr>\n    <tr>\n      <th>21161</th>\n      <td>4504.12597</td>\n      <td>72921.55238</td>\n      <td>19.113412</td>\n    </tr>\n    <tr>\n      <th>21163</th>\n      <td>4503.90660</td>\n      <td>72921.45630</td>\n      <td>19.113412</td>\n    </tr>\n    <tr>\n      <th>21165</th>\n      <td>4503.75788</td>\n      <td>72921.39087</td>\n      <td>19.113413</td>\n    </tr>\n    <tr>\n      <th>21167</th>\n      <td>4503.60064</td>\n      <td>72921.32112</td>\n      <td>19.113413</td>\n    </tr>\n    <tr>\n      <th>21169</th>\n      <td>4503.42660</td>\n      <td>72921.24446</td>\n      <td>19.113413</td>\n    </tr>\n  </tbody>\n</table>\n<p>14023 rows × 3 columns</p>\n</div>"
     },
     "execution_count": 13,
     "metadata": {},
     "output_type": "execute_result"
    }
   ],
   "source": [
    "# Define the vector to be added to each row\n",
    "MGRS_offset_center = pd.Series({'X': 4542.51, 'Y': 72957.96, 'Z': 18.58})\n",
    "\n",
    "# Add the vector to each row in the DataFrame\n",
    "df = new_cars.add(MGRS_offset_center, axis='columns')\n",
    "df"
   ],
   "metadata": {
    "collapsed": false,
    "pycharm": {
     "name": "#%%\n"
    }
   }
  },
  {
   "cell_type": "markdown",
   "source": [
    "# End of old Version\n"
   ],
   "metadata": {
    "collapsed": false,
    "pycharm": {
     "name": "#%% md\n"
    }
   }
  },
  {
   "cell_type": "code",
   "execution_count": 23,
   "outputs": [
    {
     "data": {
      "text/plain": "               X         Y         Z Box_State\n0      -571.2328 -0.472852 -201.1151    Yellow\n1      -570.9661 -0.495205 -201.4088    Yellow\n2      -570.6721 -0.498545 -201.7328    Yellow\n3      -570.3505 -0.487362 -202.0869    Yellow\n4      -570.0015 -0.474657 -202.4712    Yellow\n...          ...       ...       ...       ...\n100296 -163.9210 -1.581898  658.0048    Yellow\n100297 -163.9210 -1.581898  658.0048    Yellow\n100298 -163.9210 -1.581898  658.0048    Yellow\n100299 -163.9210 -1.581898  658.0048    Yellow\n100300 -163.9210 -1.581898  658.0048    Yellow\n\n[100301 rows x 4 columns]",
      "text/html": "<div>\n<style scoped>\n    .dataframe tbody tr th:only-of-type {\n        vertical-align: middle;\n    }\n\n    .dataframe tbody tr th {\n        vertical-align: top;\n    }\n\n    .dataframe thead th {\n        text-align: right;\n    }\n</style>\n<table border=\"1\" class=\"dataframe\">\n  <thead>\n    <tr style=\"text-align: right;\">\n      <th></th>\n      <th>X</th>\n      <th>Y</th>\n      <th>Z</th>\n      <th>Box_State</th>\n    </tr>\n  </thead>\n  <tbody>\n    <tr>\n      <th>0</th>\n      <td>-571.2328</td>\n      <td>-0.472852</td>\n      <td>-201.1151</td>\n      <td>Yellow</td>\n    </tr>\n    <tr>\n      <th>1</th>\n      <td>-570.9661</td>\n      <td>-0.495205</td>\n      <td>-201.4088</td>\n      <td>Yellow</td>\n    </tr>\n    <tr>\n      <th>2</th>\n      <td>-570.6721</td>\n      <td>-0.498545</td>\n      <td>-201.7328</td>\n      <td>Yellow</td>\n    </tr>\n    <tr>\n      <th>3</th>\n      <td>-570.3505</td>\n      <td>-0.487362</td>\n      <td>-202.0869</td>\n      <td>Yellow</td>\n    </tr>\n    <tr>\n      <th>4</th>\n      <td>-570.0015</td>\n      <td>-0.474657</td>\n      <td>-202.4712</td>\n      <td>Yellow</td>\n    </tr>\n    <tr>\n      <th>...</th>\n      <td>...</td>\n      <td>...</td>\n      <td>...</td>\n      <td>...</td>\n    </tr>\n    <tr>\n      <th>100296</th>\n      <td>-163.9210</td>\n      <td>-1.581898</td>\n      <td>658.0048</td>\n      <td>Yellow</td>\n    </tr>\n    <tr>\n      <th>100297</th>\n      <td>-163.9210</td>\n      <td>-1.581898</td>\n      <td>658.0048</td>\n      <td>Yellow</td>\n    </tr>\n    <tr>\n      <th>100298</th>\n      <td>-163.9210</td>\n      <td>-1.581898</td>\n      <td>658.0048</td>\n      <td>Yellow</td>\n    </tr>\n    <tr>\n      <th>100299</th>\n      <td>-163.9210</td>\n      <td>-1.581898</td>\n      <td>658.0048</td>\n      <td>Yellow</td>\n    </tr>\n    <tr>\n      <th>100300</th>\n      <td>-163.9210</td>\n      <td>-1.581898</td>\n      <td>658.0048</td>\n      <td>Yellow</td>\n    </tr>\n  </tbody>\n</table>\n<p>100301 rows × 4 columns</p>\n</div>"
     },
     "execution_count": 23,
     "metadata": {},
     "output_type": "execute_result"
    }
   ],
   "source": [
    "df = df[['X','Y','Z','Box_State']]\n",
    "df"
   ],
   "metadata": {
    "collapsed": false,
    "pycharm": {
     "name": "#%%\n"
    }
   }
  },
  {
   "cell_type": "code",
   "execution_count": 24,
   "outputs": [
    {
     "data": {
      "text/plain": "                X           Y          Z\n0       4341.3949  73529.1928  18.107148\n1       4341.1012  73528.9261  18.084795\n2       4340.7772  73528.6321  18.081455\n3       4340.4231  73528.3105  18.092638\n4       4340.0388  73527.9615  18.105343\n...           ...         ...        ...\n100296  5200.5148  73121.8810  16.998102\n100297  5200.5148  73121.8810  16.998102\n100298  5200.5148  73121.8810  16.998102\n100299  5200.5148  73121.8810  16.998102\n100300  5200.5148  73121.8810  16.998102\n\n[100301 rows x 3 columns]",
      "text/html": "<div>\n<style scoped>\n    .dataframe tbody tr th:only-of-type {\n        vertical-align: middle;\n    }\n\n    .dataframe tbody tr th {\n        vertical-align: top;\n    }\n\n    .dataframe thead th {\n        text-align: right;\n    }\n</style>\n<table border=\"1\" class=\"dataframe\">\n  <thead>\n    <tr style=\"text-align: right;\">\n      <th></th>\n      <th>X</th>\n      <th>Y</th>\n      <th>Z</th>\n    </tr>\n  </thead>\n  <tbody>\n    <tr>\n      <th>0</th>\n      <td>4341.3949</td>\n      <td>73529.1928</td>\n      <td>18.107148</td>\n    </tr>\n    <tr>\n      <th>1</th>\n      <td>4341.1012</td>\n      <td>73528.9261</td>\n      <td>18.084795</td>\n    </tr>\n    <tr>\n      <th>2</th>\n      <td>4340.7772</td>\n      <td>73528.6321</td>\n      <td>18.081455</td>\n    </tr>\n    <tr>\n      <th>3</th>\n      <td>4340.4231</td>\n      <td>73528.3105</td>\n      <td>18.092638</td>\n    </tr>\n    <tr>\n      <th>4</th>\n      <td>4340.0388</td>\n      <td>73527.9615</td>\n      <td>18.105343</td>\n    </tr>\n    <tr>\n      <th>...</th>\n      <td>...</td>\n      <td>...</td>\n      <td>...</td>\n    </tr>\n    <tr>\n      <th>100296</th>\n      <td>5200.5148</td>\n      <td>73121.8810</td>\n      <td>16.998102</td>\n    </tr>\n    <tr>\n      <th>100297</th>\n      <td>5200.5148</td>\n      <td>73121.8810</td>\n      <td>16.998102</td>\n    </tr>\n    <tr>\n      <th>100298</th>\n      <td>5200.5148</td>\n      <td>73121.8810</td>\n      <td>16.998102</td>\n    </tr>\n    <tr>\n      <th>100299</th>\n      <td>5200.5148</td>\n      <td>73121.8810</td>\n      <td>16.998102</td>\n    </tr>\n    <tr>\n      <th>100300</th>\n      <td>5200.5148</td>\n      <td>73121.8810</td>\n      <td>16.998102</td>\n    </tr>\n  </tbody>\n</table>\n<p>100301 rows × 3 columns</p>\n</div>"
     },
     "execution_count": 24,
     "metadata": {},
     "output_type": "execute_result"
    }
   ],
   "source": [
    "combined_df = pd.DataFrame({\n",
    "    'X': combined_df['Z'],\n",
    "    'Y': -combined_df['X'],\n",
    "    'Z': combined_df['Y'],\n",
    "})\n",
    "\n",
    "MGRS_offset_center = pd.Series({'X': 4542.51, 'Y': 72957.96, 'Z': 18.58})\n",
    "\n",
    "# Add the vector to each row in the DataFrame\n",
    "combined_df = combined_df.add(MGRS_offset_center, axis='columns')\n",
    "combined_df\n"
   ],
   "metadata": {
    "collapsed": false,
    "pycharm": {
     "name": "#%%\n"
    }
   }
  },
  {
   "cell_type": "code",
   "execution_count": 25,
   "outputs": [
    {
     "data": {
      "text/plain": "                X           Y          Z Box_State\n0       4341.3949  73529.1928  18.107148    Yellow\n1       4341.1012  73528.9261  18.084795    Yellow\n2       4340.7772  73528.6321  18.081455    Yellow\n3       4340.4231  73528.3105  18.092638    Yellow\n4       4340.0388  73527.9615  18.105343    Yellow\n...           ...         ...        ...       ...\n100296  5200.5148  73121.8810  16.998102    Yellow\n100297  5200.5148  73121.8810  16.998102    Yellow\n100298  5200.5148  73121.8810  16.998102    Yellow\n100299  5200.5148  73121.8810  16.998102    Yellow\n100300  5200.5148  73121.8810  16.998102    Yellow\n\n[100301 rows x 4 columns]",
      "text/html": "<div>\n<style scoped>\n    .dataframe tbody tr th:only-of-type {\n        vertical-align: middle;\n    }\n\n    .dataframe tbody tr th {\n        vertical-align: top;\n    }\n\n    .dataframe thead th {\n        text-align: right;\n    }\n</style>\n<table border=\"1\" class=\"dataframe\">\n  <thead>\n    <tr style=\"text-align: right;\">\n      <th></th>\n      <th>X</th>\n      <th>Y</th>\n      <th>Z</th>\n      <th>Box_State</th>\n    </tr>\n  </thead>\n  <tbody>\n    <tr>\n      <th>0</th>\n      <td>4341.3949</td>\n      <td>73529.1928</td>\n      <td>18.107148</td>\n      <td>Yellow</td>\n    </tr>\n    <tr>\n      <th>1</th>\n      <td>4341.1012</td>\n      <td>73528.9261</td>\n      <td>18.084795</td>\n      <td>Yellow</td>\n    </tr>\n    <tr>\n      <th>2</th>\n      <td>4340.7772</td>\n      <td>73528.6321</td>\n      <td>18.081455</td>\n      <td>Yellow</td>\n    </tr>\n    <tr>\n      <th>3</th>\n      <td>4340.4231</td>\n      <td>73528.3105</td>\n      <td>18.092638</td>\n      <td>Yellow</td>\n    </tr>\n    <tr>\n      <th>4</th>\n      <td>4340.0388</td>\n      <td>73527.9615</td>\n      <td>18.105343</td>\n      <td>Yellow</td>\n    </tr>\n    <tr>\n      <th>...</th>\n      <td>...</td>\n      <td>...</td>\n      <td>...</td>\n      <td>...</td>\n    </tr>\n    <tr>\n      <th>100296</th>\n      <td>5200.5148</td>\n      <td>73121.8810</td>\n      <td>16.998102</td>\n      <td>Yellow</td>\n    </tr>\n    <tr>\n      <th>100297</th>\n      <td>5200.5148</td>\n      <td>73121.8810</td>\n      <td>16.998102</td>\n      <td>Yellow</td>\n    </tr>\n    <tr>\n      <th>100298</th>\n      <td>5200.5148</td>\n      <td>73121.8810</td>\n      <td>16.998102</td>\n      <td>Yellow</td>\n    </tr>\n    <tr>\n      <th>100299</th>\n      <td>5200.5148</td>\n      <td>73121.8810</td>\n      <td>16.998102</td>\n      <td>Yellow</td>\n    </tr>\n    <tr>\n      <th>100300</th>\n      <td>5200.5148</td>\n      <td>73121.8810</td>\n      <td>16.998102</td>\n      <td>Yellow</td>\n    </tr>\n  </tbody>\n</table>\n<p>100301 rows × 4 columns</p>\n</div>"
     },
     "execution_count": 25,
     "metadata": {},
     "output_type": "execute_result"
    }
   ],
   "source": [
    "df = pd.DataFrame({\n",
    "    'X': combined_df['X'],\n",
    "    'Y': combined_df['Y'],\n",
    "    'Z': combined_df['Z'],\n",
    "    'Box_State': df['Box_State']\n",
    "})\n",
    "df"
   ],
   "metadata": {
    "collapsed": false,
    "pycharm": {
     "name": "#%%\n"
    }
   }
  },
  {
   "cell_type": "code",
   "execution_count": 26,
   "outputs": [
    {
     "data": {
      "text/plain": "(248632, 152288)"
     },
     "execution_count": 26,
     "metadata": {},
     "output_type": "execute_result"
    }
   ],
   "source": [
    "yellow_box_state_df = df[df['Box_State'] == 'Yellow']\n",
    "red_box_state_df = df[df['Box_State'] == 'Red']\n",
    "yellow_box_state_df.size,red_box_state_df.size"
   ],
   "metadata": {
    "collapsed": false,
    "pycharm": {
     "name": "#%%\n"
    }
   }
  },
  {
   "cell_type": "markdown",
   "source": [
    "# Conversion\n"
   ],
   "metadata": {
    "collapsed": false,
    "pycharm": {
     "name": "#%% md\n"
    }
   }
  },
  {
   "cell_type": "code",
   "execution_count": 27,
   "outputs": [],
   "source": [
    "mgrs_code = \"54SVE\""
   ],
   "metadata": {
    "collapsed": false,
    "pycharm": {
     "name": "#%%\n"
    }
   }
  },
  {
   "cell_type": "code",
   "execution_count": 28,
   "outputs": [],
   "source": [
    "def digits_extractor(input):\n",
    "    tenth_thousand = (input // 10000) % 10\n",
    "    thousanth = (input // 1000) % 10\n",
    "    hundreth = (input // 100) % 10\n",
    "\n",
    "    result = str(int(tenth_thousand * 100 + thousanth * 10 + hundreth))\n",
    "    if len(result) == 2:\n",
    "        result = \"0\" + result\n",
    "    elif len(result) == 1:\n",
    "        result = \"00\" + result\n",
    "    return result"
   ],
   "metadata": {
    "collapsed": false,
    "pycharm": {
     "name": "#%%\n"
    }
   }
  },
  {
   "cell_type": "code",
   "execution_count": 29,
   "outputs": [],
   "source": [
    "def conver_to_MGRS(df):\n",
    "    mgrs_code_prefix = \"54SVE\"\n",
    "\n",
    "    # Calculate the MGRS code by appending the first three digits of 'X' and 'Y'\n",
    "    df['MGRS_Code'] = mgrs_code_prefix + df['X'].apply(digits_extractor) + df['Y'].apply(digits_extractor)\n",
    "\n",
    "\n",
    "\n",
    "\n",
    "    # Extract the local X and Y which are the decimal parts of 'X' and 'Y'\n",
    "    df['Local_X'] = df['X']%100\n",
    "    df['Local_Y'] = df['Y']%100\n",
    "\n",
    "    # Create a new DataFrame with the desired columns\n",
    "    new_df = df[['MGRS_Code', 'Local_X', 'Local_Y']]\n",
    "    return new_df"
   ],
   "metadata": {
    "collapsed": false,
    "pycharm": {
     "name": "#%%\n"
    }
   }
  },
  {
   "cell_type": "code",
   "execution_count": 18,
   "outputs": [
    {
     "data": {
      "text/plain": "         MGRS_Code  Local_X   Local_Y\n1      54SVE045729  2.79732  20.96585\n3      54SVE045729  2.79732  20.96585\n5      54SVE045729  2.79732  20.96585\n7      54SVE045729  2.79732  20.96585\n9      54SVE045729  2.79732  20.96585\n...            ...      ...       ...\n21161  54SVE045729  4.12597  21.55238\n21163  54SVE045729  3.90660  21.45630\n21165  54SVE045729  3.75788  21.39087\n21167  54SVE045729  3.60064  21.32112\n21169  54SVE045729  3.42660  21.24446\n\n[14023 rows x 3 columns]",
      "text/html": "<div>\n<style scoped>\n    .dataframe tbody tr th:only-of-type {\n        vertical-align: middle;\n    }\n\n    .dataframe tbody tr th {\n        vertical-align: top;\n    }\n\n    .dataframe thead th {\n        text-align: right;\n    }\n</style>\n<table border=\"1\" class=\"dataframe\">\n  <thead>\n    <tr style=\"text-align: right;\">\n      <th></th>\n      <th>MGRS_Code</th>\n      <th>Local_X</th>\n      <th>Local_Y</th>\n    </tr>\n  </thead>\n  <tbody>\n    <tr>\n      <th>1</th>\n      <td>54SVE045729</td>\n      <td>2.79732</td>\n      <td>20.96585</td>\n    </tr>\n    <tr>\n      <th>3</th>\n      <td>54SVE045729</td>\n      <td>2.79732</td>\n      <td>20.96585</td>\n    </tr>\n    <tr>\n      <th>5</th>\n      <td>54SVE045729</td>\n      <td>2.79732</td>\n      <td>20.96585</td>\n    </tr>\n    <tr>\n      <th>7</th>\n      <td>54SVE045729</td>\n      <td>2.79732</td>\n      <td>20.96585</td>\n    </tr>\n    <tr>\n      <th>9</th>\n      <td>54SVE045729</td>\n      <td>2.79732</td>\n      <td>20.96585</td>\n    </tr>\n    <tr>\n      <th>...</th>\n      <td>...</td>\n      <td>...</td>\n      <td>...</td>\n    </tr>\n    <tr>\n      <th>21161</th>\n      <td>54SVE045729</td>\n      <td>4.12597</td>\n      <td>21.55238</td>\n    </tr>\n    <tr>\n      <th>21163</th>\n      <td>54SVE045729</td>\n      <td>3.90660</td>\n      <td>21.45630</td>\n    </tr>\n    <tr>\n      <th>21165</th>\n      <td>54SVE045729</td>\n      <td>3.75788</td>\n      <td>21.39087</td>\n    </tr>\n    <tr>\n      <th>21167</th>\n      <td>54SVE045729</td>\n      <td>3.60064</td>\n      <td>21.32112</td>\n    </tr>\n    <tr>\n      <th>21169</th>\n      <td>54SVE045729</td>\n      <td>3.42660</td>\n      <td>21.24446</td>\n    </tr>\n  </tbody>\n</table>\n<p>14023 rows × 3 columns</p>\n</div>"
     },
     "execution_count": 18,
     "metadata": {},
     "output_type": "execute_result"
    }
   ],
   "source": [
    "# old\n",
    "# Your MGRS code prefix\n",
    "mgrs_code_prefix = \"54SVE\"\n",
    "\n",
    "# Calculate the MGRS code by appending the first three digits of 'X' and 'Y'\n",
    "df['MGRS_Code'] = mgrs_code_prefix + df['X'].apply(digits_extractor) + df['Y'].apply(digits_extractor)\n",
    "\n",
    "\n",
    "\n",
    "\n",
    "# Extract the local X and Y which are the decimal parts of 'X' and 'Y'\n",
    "df['Local_X'] = df['X']%100\n",
    "df['Local_Y'] = df['Y']%100\n",
    "\n",
    "# Create a new DataFrame with the desired columns\n",
    "new_df = df[['MGRS_Code', 'Local_X', 'Local_Y']]\n",
    "\n",
    "new_df"
   ],
   "metadata": {
    "collapsed": false,
    "pycharm": {
     "name": "#%%\n"
    }
   }
  },
  {
   "cell_type": "markdown",
   "source": [
    "### new version\n"
   ],
   "metadata": {
    "collapsed": false,
    "pycharm": {
     "name": "#%% md\n"
    }
   }
  },
  {
   "cell_type": "code",
   "execution_count": 30,
   "outputs": [
    {
     "name": "stderr",
     "output_type": "stream",
     "text": [
      "C:\\Users\\KASHANI\\AppData\\Local\\Temp\\ipykernel_27256\\3034027603.py:5: SettingWithCopyWarning: \n",
      "A value is trying to be set on a copy of a slice from a DataFrame.\n",
      "Try using .loc[row_indexer,col_indexer] = value instead\n",
      "\n",
      "See the caveats in the documentation: https://pandas.pydata.org/pandas-docs/stable/user_guide/indexing.html#returning-a-view-versus-a-copy\n",
      "  df['MGRS_Code'] = mgrs_code_prefix + df['X'].apply(digits_extractor) + df['Y'].apply(digits_extractor)\n",
      "C:\\Users\\KASHANI\\AppData\\Local\\Temp\\ipykernel_27256\\3034027603.py:11: SettingWithCopyWarning: \n",
      "A value is trying to be set on a copy of a slice from a DataFrame.\n",
      "Try using .loc[row_indexer,col_indexer] = value instead\n",
      "\n",
      "See the caveats in the documentation: https://pandas.pydata.org/pandas-docs/stable/user_guide/indexing.html#returning-a-view-versus-a-copy\n",
      "  df['Local_X'] = df['X']%100\n",
      "C:\\Users\\KASHANI\\AppData\\Local\\Temp\\ipykernel_27256\\3034027603.py:12: SettingWithCopyWarning: \n",
      "A value is trying to be set on a copy of a slice from a DataFrame.\n",
      "Try using .loc[row_indexer,col_indexer] = value instead\n",
      "\n",
      "See the caveats in the documentation: https://pandas.pydata.org/pandas-docs/stable/user_guide/indexing.html#returning-a-view-versus-a-copy\n",
      "  df['Local_Y'] = df['Y']%100\n"
     ]
    },
    {
     "data": {
      "text/plain": "          MGRS_Code  Local_X  Local_Y\n0       54SVE043735  41.3949  29.1928\n1       54SVE043735  41.1012  28.9261\n2       54SVE043735  40.7772  28.6321\n3       54SVE043735  40.4231  28.3105\n4       54SVE043735  40.0388  27.9615\n...             ...      ...      ...\n100296  54SVE052731   0.5148  21.8810\n100297  54SVE052731   0.5148  21.8810\n100298  54SVE052731   0.5148  21.8810\n100299  54SVE052731   0.5148  21.8810\n100300  54SVE052731   0.5148  21.8810\n\n[62158 rows x 3 columns]",
      "text/html": "<div>\n<style scoped>\n    .dataframe tbody tr th:only-of-type {\n        vertical-align: middle;\n    }\n\n    .dataframe tbody tr th {\n        vertical-align: top;\n    }\n\n    .dataframe thead th {\n        text-align: right;\n    }\n</style>\n<table border=\"1\" class=\"dataframe\">\n  <thead>\n    <tr style=\"text-align: right;\">\n      <th></th>\n      <th>MGRS_Code</th>\n      <th>Local_X</th>\n      <th>Local_Y</th>\n    </tr>\n  </thead>\n  <tbody>\n    <tr>\n      <th>0</th>\n      <td>54SVE043735</td>\n      <td>41.3949</td>\n      <td>29.1928</td>\n    </tr>\n    <tr>\n      <th>1</th>\n      <td>54SVE043735</td>\n      <td>41.1012</td>\n      <td>28.9261</td>\n    </tr>\n    <tr>\n      <th>2</th>\n      <td>54SVE043735</td>\n      <td>40.7772</td>\n      <td>28.6321</td>\n    </tr>\n    <tr>\n      <th>3</th>\n      <td>54SVE043735</td>\n      <td>40.4231</td>\n      <td>28.3105</td>\n    </tr>\n    <tr>\n      <th>4</th>\n      <td>54SVE043735</td>\n      <td>40.0388</td>\n      <td>27.9615</td>\n    </tr>\n    <tr>\n      <th>...</th>\n      <td>...</td>\n      <td>...</td>\n      <td>...</td>\n    </tr>\n    <tr>\n      <th>100296</th>\n      <td>54SVE052731</td>\n      <td>0.5148</td>\n      <td>21.8810</td>\n    </tr>\n    <tr>\n      <th>100297</th>\n      <td>54SVE052731</td>\n      <td>0.5148</td>\n      <td>21.8810</td>\n    </tr>\n    <tr>\n      <th>100298</th>\n      <td>54SVE052731</td>\n      <td>0.5148</td>\n      <td>21.8810</td>\n    </tr>\n    <tr>\n      <th>100299</th>\n      <td>54SVE052731</td>\n      <td>0.5148</td>\n      <td>21.8810</td>\n    </tr>\n    <tr>\n      <th>100300</th>\n      <td>54SVE052731</td>\n      <td>0.5148</td>\n      <td>21.8810</td>\n    </tr>\n  </tbody>\n</table>\n<p>62158 rows × 3 columns</p>\n</div>"
     },
     "execution_count": 30,
     "metadata": {},
     "output_type": "execute_result"
    }
   ],
   "source": [
    "yellow_box_state_df = conver_to_MGRS(yellow_box_state_df)\n",
    "yellow_box_state_df"
   ],
   "metadata": {
    "collapsed": false,
    "pycharm": {
     "name": "#%%\n"
    }
   }
  },
  {
   "cell_type": "code",
   "execution_count": 31,
   "outputs": [
    {
     "name": "stderr",
     "output_type": "stream",
     "text": [
      "C:\\Users\\KASHANI\\AppData\\Local\\Temp\\ipykernel_27256\\3034027603.py:5: SettingWithCopyWarning: \n",
      "A value is trying to be set on a copy of a slice from a DataFrame.\n",
      "Try using .loc[row_indexer,col_indexer] = value instead\n",
      "\n",
      "See the caveats in the documentation: https://pandas.pydata.org/pandas-docs/stable/user_guide/indexing.html#returning-a-view-versus-a-copy\n",
      "  df['MGRS_Code'] = mgrs_code_prefix + df['X'].apply(digits_extractor) + df['Y'].apply(digits_extractor)\n",
      "C:\\Users\\KASHANI\\AppData\\Local\\Temp\\ipykernel_27256\\3034027603.py:11: SettingWithCopyWarning: \n",
      "A value is trying to be set on a copy of a slice from a DataFrame.\n",
      "Try using .loc[row_indexer,col_indexer] = value instead\n",
      "\n",
      "See the caveats in the documentation: https://pandas.pydata.org/pandas-docs/stable/user_guide/indexing.html#returning-a-view-versus-a-copy\n",
      "  df['Local_X'] = df['X']%100\n",
      "C:\\Users\\KASHANI\\AppData\\Local\\Temp\\ipykernel_27256\\3034027603.py:12: SettingWithCopyWarning: \n",
      "A value is trying to be set on a copy of a slice from a DataFrame.\n",
      "Try using .loc[row_indexer,col_indexer] = value instead\n",
      "\n",
      "See the caveats in the documentation: https://pandas.pydata.org/pandas-docs/stable/user_guide/indexing.html#returning-a-view-versus-a-copy\n",
      "  df['Local_Y'] = df['Y']%100\n"
     ]
    },
    {
     "data": {
      "text/plain": "         MGRS_Code  Local_X  Local_Y\n315    54SVE042734  38.8285  45.7399\n320    54SVE042734  37.5021  44.8110\n325    54SVE042734  36.3600  44.0221\n330    54SVE042734  35.0206  43.1121\n335    54SVE042734  33.6738  42.2131\n...            ...      ...      ...\n97825  54SVE052731   6.4426  21.2818\n97826  54SVE052731   6.4426  21.2818\n97827  54SVE052731   6.4426  21.2818\n97828  54SVE052731   6.4426  21.2818\n97829  54SVE052731   6.4426  21.2818\n\n[38072 rows x 3 columns]",
      "text/html": "<div>\n<style scoped>\n    .dataframe tbody tr th:only-of-type {\n        vertical-align: middle;\n    }\n\n    .dataframe tbody tr th {\n        vertical-align: top;\n    }\n\n    .dataframe thead th {\n        text-align: right;\n    }\n</style>\n<table border=\"1\" class=\"dataframe\">\n  <thead>\n    <tr style=\"text-align: right;\">\n      <th></th>\n      <th>MGRS_Code</th>\n      <th>Local_X</th>\n      <th>Local_Y</th>\n    </tr>\n  </thead>\n  <tbody>\n    <tr>\n      <th>315</th>\n      <td>54SVE042734</td>\n      <td>38.8285</td>\n      <td>45.7399</td>\n    </tr>\n    <tr>\n      <th>320</th>\n      <td>54SVE042734</td>\n      <td>37.5021</td>\n      <td>44.8110</td>\n    </tr>\n    <tr>\n      <th>325</th>\n      <td>54SVE042734</td>\n      <td>36.3600</td>\n      <td>44.0221</td>\n    </tr>\n    <tr>\n      <th>330</th>\n      <td>54SVE042734</td>\n      <td>35.0206</td>\n      <td>43.1121</td>\n    </tr>\n    <tr>\n      <th>335</th>\n      <td>54SVE042734</td>\n      <td>33.6738</td>\n      <td>42.2131</td>\n    </tr>\n    <tr>\n      <th>...</th>\n      <td>...</td>\n      <td>...</td>\n      <td>...</td>\n    </tr>\n    <tr>\n      <th>97825</th>\n      <td>54SVE052731</td>\n      <td>6.4426</td>\n      <td>21.2818</td>\n    </tr>\n    <tr>\n      <th>97826</th>\n      <td>54SVE052731</td>\n      <td>6.4426</td>\n      <td>21.2818</td>\n    </tr>\n    <tr>\n      <th>97827</th>\n      <td>54SVE052731</td>\n      <td>6.4426</td>\n      <td>21.2818</td>\n    </tr>\n    <tr>\n      <th>97828</th>\n      <td>54SVE052731</td>\n      <td>6.4426</td>\n      <td>21.2818</td>\n    </tr>\n    <tr>\n      <th>97829</th>\n      <td>54SVE052731</td>\n      <td>6.4426</td>\n      <td>21.2818</td>\n    </tr>\n  </tbody>\n</table>\n<p>38072 rows × 3 columns</p>\n</div>"
     },
     "execution_count": 31,
     "metadata": {},
     "output_type": "execute_result"
    }
   ],
   "source": [
    "red_box_state_df = conver_to_MGRS(red_box_state_df)\n",
    "red_box_state_df"
   ],
   "metadata": {
    "collapsed": false,
    "pycharm": {
     "name": "#%%\n"
    }
   }
  },
  {
   "cell_type": "markdown",
   "source": [
    "MGRS Convertor\n"
   ],
   "metadata": {
    "collapsed": false,
    "pycharm": {
     "name": "#%% md\n"
    }
   }
  },
  {
   "cell_type": "code",
   "execution_count": 32,
   "outputs": [],
   "source": [
    "import mgrs\n",
    "from pyproj import Transformer"
   ],
   "metadata": {
    "collapsed": false,
    "pycharm": {
     "name": "#%%\n"
    }
   }
  },
  {
   "cell_type": "code",
   "execution_count": 33,
   "outputs": [],
   "source": [
    "def mgrs_to_latlon_with_offset(mgrs_code, local_x, local_y):\n",
    "    # Initialize MGRS converter\n",
    "    m_converter = mgrs.MGRS()\n",
    "\n",
    "    # Convert MGRS to latitude and longitude\n",
    "    latlon = m_converter.toLatLon(mgrs_code.encode('utf-8'))\n",
    "\n",
    "    # Extract initial latitude and longitude\n",
    "    initial_lat, initial_lon = latlon\n",
    "\n",
    "    # Find UTM zone and hemisphere from the MGRS code\n",
    "    utm_zone = mgrs_code[:3]\n",
    "    is_southern = 'S' in mgrs_code\n",
    "\n",
    "    # Define transformer from UTM to WGS84 (and vice versa)\n",
    "    # This automatically considers the hemisphere based on latitude\n",
    "    transformer_to_utm = Transformer.from_crs(f\"EPSG:4326\", f\"EPSG:326{utm_zone[:2]}\", always_xy=True)\n",
    "    transformer_to_wgs = Transformer.from_crs(f\"EPSG:326{utm_zone[:2]}\", \"EPSG:4326\", always_xy=True)\n",
    "\n",
    "    if is_southern:\n",
    "        transformer_to_utm = Transformer.from_crs(f\"EPSG:4326\", f\"EPSG:327{utm_zone[:2]}\", always_xy=True)\n",
    "        transformer_to_wgs = Transformer.from_crs(f\"EPSG:327{utm_zone[:2]}\", \"EPSG:4326\", always_xy=True)\n",
    "\n",
    "    # Convert initial latlon to UTM\n",
    "    x, y = transformer_to_utm.transform(initial_lon, initial_lat)\n",
    "\n",
    "    # Apply offsets\n",
    "    x_adjusted = x + local_x\n",
    "    y_adjusted = y + local_y\n",
    "\n",
    "    # Convert back to WGS84\n",
    "    lon_adjusted, lat_adjusted = transformer_to_wgs.transform(x_adjusted, y_adjusted)\n",
    "\n",
    "    return lat_adjusted, lon_adjusted"
   ],
   "metadata": {
    "collapsed": false,
    "pycharm": {
     "name": "#%%\n"
    }
   }
  },
  {
   "cell_type": "markdown",
   "source": [
    "# new system"
   ],
   "metadata": {
    "collapsed": false,
    "pycharm": {
     "name": "#%% md\n"
    }
   }
  },
  {
   "cell_type": "code",
   "execution_count": 34,
   "outputs": [
    {
     "data": {
      "text/plain": "        Latitude   Longitude\n0      35.900619  139.938843\n1      35.900610  139.938828\n2      35.900603  139.938815\n3      35.900595  139.938801\n4      35.900586  139.938786\n...          ...         ...\n38067  35.897788  139.949602\n38068  35.897788  139.949602\n38069  35.897788  139.949602\n38070  35.897788  139.949602\n38071  35.897788  139.949602\n\n[38072 rows x 2 columns]",
      "text/html": "<div>\n<style scoped>\n    .dataframe tbody tr th:only-of-type {\n        vertical-align: middle;\n    }\n\n    .dataframe tbody tr th {\n        vertical-align: top;\n    }\n\n    .dataframe thead th {\n        text-align: right;\n    }\n</style>\n<table border=\"1\" class=\"dataframe\">\n  <thead>\n    <tr style=\"text-align: right;\">\n      <th></th>\n      <th>Latitude</th>\n      <th>Longitude</th>\n    </tr>\n  </thead>\n  <tbody>\n    <tr>\n      <th>0</th>\n      <td>35.900619</td>\n      <td>139.938843</td>\n    </tr>\n    <tr>\n      <th>1</th>\n      <td>35.900610</td>\n      <td>139.938828</td>\n    </tr>\n    <tr>\n      <th>2</th>\n      <td>35.900603</td>\n      <td>139.938815</td>\n    </tr>\n    <tr>\n      <th>3</th>\n      <td>35.900595</td>\n      <td>139.938801</td>\n    </tr>\n    <tr>\n      <th>4</th>\n      <td>35.900586</td>\n      <td>139.938786</td>\n    </tr>\n    <tr>\n      <th>...</th>\n      <td>...</td>\n      <td>...</td>\n    </tr>\n    <tr>\n      <th>38067</th>\n      <td>35.897788</td>\n      <td>139.949602</td>\n    </tr>\n    <tr>\n      <th>38068</th>\n      <td>35.897788</td>\n      <td>139.949602</td>\n    </tr>\n    <tr>\n      <th>38069</th>\n      <td>35.897788</td>\n      <td>139.949602</td>\n    </tr>\n    <tr>\n      <th>38070</th>\n      <td>35.897788</td>\n      <td>139.949602</td>\n    </tr>\n    <tr>\n      <th>38071</th>\n      <td>35.897788</td>\n      <td>139.949602</td>\n    </tr>\n  </tbody>\n</table>\n<p>38072 rows × 2 columns</p>\n</div>"
     },
     "execution_count": 34,
     "metadata": {},
     "output_type": "execute_result"
    }
   ],
   "source": [
    "reds = red_box_state_df.apply(lambda row: mgrs_to_latlon_with_offset(row['MGRS_Code'], row['Local_X'], row['Local_Y']), axis=1)\n",
    "reds = pd.DataFrame(reds.tolist(), columns=['Latitude', 'Longitude'])\n",
    "\n",
    "yellows = yellow_box_state_df.apply(lambda row: mgrs_to_latlon_with_offset(row['MGRS_Code'], row['Local_X'], row['Local_Y']), axis=1)\n",
    "\n",
    "yellows = pd.DataFrame(yellows.tolist(), columns=['Latitude', 'Longitude'])\n",
    "reds"
   ],
   "metadata": {
    "collapsed": false,
    "pycharm": {
     "name": "#%%\n"
    }
   }
  },
  {
   "cell_type": "code",
   "execution_count": 35,
   "outputs": [
    {
     "data": {
      "text/plain": "        Latitude   Longitude\n0      35.901381  139.939969\n1      35.901379  139.939966\n2      35.901376  139.939962\n3      35.901373  139.939958\n4      35.901370  139.939954\n...          ...         ...\n62153  35.897793  139.949536\n62154  35.897793  139.949536\n62155  35.897793  139.949536\n62156  35.897793  139.949536\n62157  35.897793  139.949536\n\n[62158 rows x 2 columns]",
      "text/html": "<div>\n<style scoped>\n    .dataframe tbody tr th:only-of-type {\n        vertical-align: middle;\n    }\n\n    .dataframe tbody tr th {\n        vertical-align: top;\n    }\n\n    .dataframe thead th {\n        text-align: right;\n    }\n</style>\n<table border=\"1\" class=\"dataframe\">\n  <thead>\n    <tr style=\"text-align: right;\">\n      <th></th>\n      <th>Latitude</th>\n      <th>Longitude</th>\n    </tr>\n  </thead>\n  <tbody>\n    <tr>\n      <th>0</th>\n      <td>35.901381</td>\n      <td>139.939969</td>\n    </tr>\n    <tr>\n      <th>1</th>\n      <td>35.901379</td>\n      <td>139.939966</td>\n    </tr>\n    <tr>\n      <th>2</th>\n      <td>35.901376</td>\n      <td>139.939962</td>\n    </tr>\n    <tr>\n      <th>3</th>\n      <td>35.901373</td>\n      <td>139.939958</td>\n    </tr>\n    <tr>\n      <th>4</th>\n      <td>35.901370</td>\n      <td>139.939954</td>\n    </tr>\n    <tr>\n      <th>...</th>\n      <td>...</td>\n      <td>...</td>\n    </tr>\n    <tr>\n      <th>62153</th>\n      <td>35.897793</td>\n      <td>139.949536</td>\n    </tr>\n    <tr>\n      <th>62154</th>\n      <td>35.897793</td>\n      <td>139.949536</td>\n    </tr>\n    <tr>\n      <th>62155</th>\n      <td>35.897793</td>\n      <td>139.949536</td>\n    </tr>\n    <tr>\n      <th>62156</th>\n      <td>35.897793</td>\n      <td>139.949536</td>\n    </tr>\n    <tr>\n      <th>62157</th>\n      <td>35.897793</td>\n      <td>139.949536</td>\n    </tr>\n  </tbody>\n</table>\n<p>62158 rows × 2 columns</p>\n</div>"
     },
     "execution_count": 35,
     "metadata": {},
     "output_type": "execute_result"
    }
   ],
   "source": [
    "yellows"
   ],
   "metadata": {
    "collapsed": false,
    "pycharm": {
     "name": "#%%\n"
    }
   }
  },
  {
   "cell_type": "code",
   "execution_count": 21,
   "outputs": [
    {
     "data": {
      "text/plain": "        Latitude   Longitude\n0      35.895914  139.941830\n1      35.895914  139.941830\n2      35.895914  139.941830\n3      35.895914  139.941830\n4      35.895914  139.941830\n...          ...         ...\n14018  35.895919  139.941845\n14019  35.895919  139.941842\n14020  35.895918  139.941841\n14021  35.895917  139.941839\n14022  35.895917  139.941837\n\n[14023 rows x 2 columns]",
      "text/html": "<div>\n<style scoped>\n    .dataframe tbody tr th:only-of-type {\n        vertical-align: middle;\n    }\n\n    .dataframe tbody tr th {\n        vertical-align: top;\n    }\n\n    .dataframe thead th {\n        text-align: right;\n    }\n</style>\n<table border=\"1\" class=\"dataframe\">\n  <thead>\n    <tr style=\"text-align: right;\">\n      <th></th>\n      <th>Latitude</th>\n      <th>Longitude</th>\n    </tr>\n  </thead>\n  <tbody>\n    <tr>\n      <th>0</th>\n      <td>35.895914</td>\n      <td>139.941830</td>\n    </tr>\n    <tr>\n      <th>1</th>\n      <td>35.895914</td>\n      <td>139.941830</td>\n    </tr>\n    <tr>\n      <th>2</th>\n      <td>35.895914</td>\n      <td>139.941830</td>\n    </tr>\n    <tr>\n      <th>3</th>\n      <td>35.895914</td>\n      <td>139.941830</td>\n    </tr>\n    <tr>\n      <th>4</th>\n      <td>35.895914</td>\n      <td>139.941830</td>\n    </tr>\n    <tr>\n      <th>...</th>\n      <td>...</td>\n      <td>...</td>\n    </tr>\n    <tr>\n      <th>14018</th>\n      <td>35.895919</td>\n      <td>139.941845</td>\n    </tr>\n    <tr>\n      <th>14019</th>\n      <td>35.895919</td>\n      <td>139.941842</td>\n    </tr>\n    <tr>\n      <th>14020</th>\n      <td>35.895918</td>\n      <td>139.941841</td>\n    </tr>\n    <tr>\n      <th>14021</th>\n      <td>35.895917</td>\n      <td>139.941839</td>\n    </tr>\n    <tr>\n      <th>14022</th>\n      <td>35.895917</td>\n      <td>139.941837</td>\n    </tr>\n  </tbody>\n</table>\n<p>14023 rows × 2 columns</p>\n</div>"
     },
     "execution_count": 21,
     "metadata": {},
     "output_type": "execute_result"
    }
   ],
   "source": [
    "results = new_df.apply(lambda row: mgrs_to_latlon_with_offset(row['MGRS_Code'], row['Local_X'], row['Local_Y']), axis=1)\n",
    "\n",
    "# The results will be a series of tuples; we can convert this into a DataFrame\n",
    "results_df = pd.DataFrame(results.tolist(), columns=['Latitude', 'Longitude'])\n",
    "results_df"
   ],
   "metadata": {
    "collapsed": false,
    "pycharm": {
     "name": "#%%\n"
    }
   }
  },
  {
   "cell_type": "code",
   "execution_count": 22,
   "outputs": [
    {
     "data": {
      "text/plain": "      Latitude   Longitude\n0    35.895914  139.941830\n1    35.895914  139.941830\n2    35.895914  139.941830\n3    35.895914  139.941830\n4    35.895914  139.941830\n..         ...         ...\n995  35.895904  139.941866\n996  35.896161  139.942149\n997  35.895950  139.941928\n998  35.895908  139.941903\n999  35.895908  139.941864\n\n[1000 rows x 2 columns]",
      "text/html": "<div>\n<style scoped>\n    .dataframe tbody tr th:only-of-type {\n        vertical-align: middle;\n    }\n\n    .dataframe tbody tr th {\n        vertical-align: top;\n    }\n\n    .dataframe thead th {\n        text-align: right;\n    }\n</style>\n<table border=\"1\" class=\"dataframe\">\n  <thead>\n    <tr style=\"text-align: right;\">\n      <th></th>\n      <th>Latitude</th>\n      <th>Longitude</th>\n    </tr>\n  </thead>\n  <tbody>\n    <tr>\n      <th>0</th>\n      <td>35.895914</td>\n      <td>139.941830</td>\n    </tr>\n    <tr>\n      <th>1</th>\n      <td>35.895914</td>\n      <td>139.941830</td>\n    </tr>\n    <tr>\n      <th>2</th>\n      <td>35.895914</td>\n      <td>139.941830</td>\n    </tr>\n    <tr>\n      <th>3</th>\n      <td>35.895914</td>\n      <td>139.941830</td>\n    </tr>\n    <tr>\n      <th>4</th>\n      <td>35.895914</td>\n      <td>139.941830</td>\n    </tr>\n    <tr>\n      <th>...</th>\n      <td>...</td>\n      <td>...</td>\n    </tr>\n    <tr>\n      <th>995</th>\n      <td>35.895904</td>\n      <td>139.941866</td>\n    </tr>\n    <tr>\n      <th>996</th>\n      <td>35.896161</td>\n      <td>139.942149</td>\n    </tr>\n    <tr>\n      <th>997</th>\n      <td>35.895950</td>\n      <td>139.941928</td>\n    </tr>\n    <tr>\n      <th>998</th>\n      <td>35.895908</td>\n      <td>139.941903</td>\n    </tr>\n    <tr>\n      <th>999</th>\n      <td>35.895908</td>\n      <td>139.941864</td>\n    </tr>\n  </tbody>\n</table>\n<p>1000 rows × 2 columns</p>\n</div>"
     },
     "execution_count": 22,
     "metadata": {},
     "output_type": "execute_result"
    }
   ],
   "source": [
    "first_1000_rows = results_df.iloc[:1000]\n",
    "first_1000_rows"
   ],
   "metadata": {
    "collapsed": false,
    "pycharm": {
     "name": "#%%\n"
    }
   }
  },
  {
   "cell_type": "code",
   "execution_count": null,
   "outputs": [],
   "source": [],
   "metadata": {
    "collapsed": false,
    "pycharm": {
     "name": "#%%\n"
    }
   }
  },
  {
   "cell_type": "code",
   "execution_count": 27,
   "outputs": [],
   "source": [
    "import folium\n",
    "from folium.plugins import HeatMap\n",
    "import pandas as pd\n",
    "\n",
    "# Sample DataFrame of latitudes and longitudes\n",
    "# df = pd.DataFrame({'latitude': [lat1, lat2, ...], 'longitude': [long1, long2, ...]})\n",
    "\n",
    "import pandas as pd\n",
    "\n",
    "# Defining the DataFrame with the sample data\n",
    "df =  results_df\n",
    "\n",
    "\n",
    "\n",
    "# df = pd.DataFrame(data)\n",
    "\n",
    "\n",
    "# Calculate the median location to center the map\n",
    "median_lat = df['Latitude'].median()\n",
    "median_long = df['Longitude'].median()\n",
    "\n",
    "# Create a base map\n",
    "map_osm = folium.Map(location=[median_lat, median_long], zoom_start=13)\n",
    "\n",
    "# Add a heatmap layer\n",
    "HeatMap(data=df[['Latitude', 'Longitude']], radius=10, blur=15, max_zoom=1).add_to(map_osm)\n",
    "\n",
    "# Display the map\n",
    "map_osm.save('heatmap2.html')"
   ],
   "metadata": {
    "collapsed": false,
    "pycharm": {
     "name": "#%%\n"
    }
   }
  },
  {
   "cell_type": "markdown",
   "source": [
    "# double color"
   ],
   "metadata": {
    "collapsed": false,
    "pycharm": {
     "name": "#%% md\n"
    }
   }
  },
  {
   "cell_type": "code",
   "execution_count": 36,
   "outputs": [],
   "source": [
    "# Define custom gradients for each heatmap\n",
    "gradient_color2 = {\n",
    "    0.2: 'red',\n",
    "    0.4: 'red',\n",
    "    0.6: 'red',\n",
    "    0.8: 'red',\n",
    "    1: 'red'\n",
    "}\n",
    "\n",
    "gradient_color1 = {\n",
    "    0.2: 'blue',\n",
    "    0.4: 'blue',\n",
    "    0.6: 'blue',\n",
    "    0.8: 'blue',\n",
    "    1: 'blue'\n",
    "}"
   ],
   "metadata": {
    "collapsed": false,
    "pycharm": {
     "name": "#%%\n"
    }
   }
  },
  {
   "cell_type": "code",
   "execution_count": 39,
   "outputs": [],
   "source": [
    "import folium\n",
    "from folium.plugins import HeatMap\n",
    "import pandas as pd\n",
    "\n",
    "\n",
    "\n",
    "\n",
    "# df = pd.DataFrame(data)\n",
    "\n",
    "\n",
    "# Calculate the median location to center the map\n",
    "median_lat = yellows['Latitude'].median()\n",
    "median_long = yellows['Longitude'].median()\n",
    "\n",
    "# Create a base map\n",
    "map_osm = folium.Map(location=[median_lat, median_long], zoom_start=13)\n",
    "\n",
    "# Add a heatmap layer\n",
    "HeatMap(data=yellows[['Latitude', 'Longitude']], radius=10, blur=15, max_zoom=1,gradient=gradient_color1).add_to(map_osm)\n",
    "# HeatMap(data=reds[['Latitude', 'Longitude']], radius=7, blur=10, max_zoom=1,gradient=gradient_color2).add_to(map_osm)\n",
    "\n",
    "# Display the map\n",
    "map_osm.save('heatmap_without bus only detected_v3_without reds.html')"
   ],
   "metadata": {
    "collapsed": false,
    "pycharm": {
     "name": "#%%\n"
    }
   }
  },
  {
   "cell_type": "code",
   "execution_count": null,
   "outputs": [],
   "source": [],
   "metadata": {
    "collapsed": false,
    "pycharm": {
     "name": "#%%\n"
    }
   }
  }
 ],
 "metadata": {
  "kernelspec": {
   "display_name": "Python 3",
   "language": "python",
   "name": "python3"
  },
  "language_info": {
   "codemirror_mode": {
    "name": "ipython",
    "version": 2
   },
   "file_extension": ".py",
   "mimetype": "text/x-python",
   "name": "python",
   "nbconvert_exporter": "python",
   "pygments_lexer": "ipython2",
   "version": "2.7.6"
  }
 },
 "nbformat": 4,
 "nbformat_minor": 0
}