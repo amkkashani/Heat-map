{
 "cells": [
  {
   "cell_type": "code",
   "execution_count": 2,
   "metadata": {
    "collapsed": true,
    "pycharm": {
     "name": "#%%\n"
    }
   },
   "outputs": [],
   "source": [
    "import numpy as np\n",
    "import  pandas as pd\n",
    "import glob"
   ]
  },
  {
   "cell_type": "markdown",
   "source": [
    "Read entire logs"
   ],
   "metadata": {
    "collapsed": false,
    "pycharm": {
     "name": "#%% md\n"
    }
   }
  },
  {
   "cell_type": "code",
   "execution_count": 3,
   "outputs": [
    {
     "name": "stderr",
     "output_type": "stream",
     "text": [
      "C:\\Users\\KASHANI\\AppData\\Local\\Temp\\ipykernel_34224\\2218014294.py:13: FutureWarning: The frame.append method is deprecated and will be removed from pandas in a future version. Use pandas.concat instead.\n",
      "  combined_df = combined_df.append(df, ignore_index=True)\n",
      "C:\\Users\\KASHANI\\AppData\\Local\\Temp\\ipykernel_34224\\2218014294.py:13: FutureWarning: The frame.append method is deprecated and will be removed from pandas in a future version. Use pandas.concat instead.\n",
      "  combined_df = combined_df.append(df, ignore_index=True)\n",
      "C:\\Users\\KASHANI\\AppData\\Local\\Temp\\ipykernel_34224\\2218014294.py:13: FutureWarning: The frame.append method is deprecated and will be removed from pandas in a future version. Use pandas.concat instead.\n",
      "  combined_df = combined_df.append(df, ignore_index=True)\n",
      "C:\\Users\\KASHANI\\AppData\\Local\\Temp\\ipykernel_34224\\2218014294.py:13: FutureWarning: The frame.append method is deprecated and will be removed from pandas in a future version. Use pandas.concat instead.\n",
      "  combined_df = combined_df.append(df, ignore_index=True)\n",
      "C:\\Users\\KASHANI\\AppData\\Local\\Temp\\ipykernel_34224\\2218014294.py:13: FutureWarning: The frame.append method is deprecated and will be removed from pandas in a future version. Use pandas.concat instead.\n",
      "  combined_df = combined_df.append(df, ignore_index=True)\n",
      "C:\\Users\\KASHANI\\AppData\\Local\\Temp\\ipykernel_34224\\2218014294.py:13: FutureWarning: The frame.append method is deprecated and will be removed from pandas in a future version. Use pandas.concat instead.\n",
      "  combined_df = combined_df.append(df, ignore_index=True)\n",
      "C:\\Users\\KASHANI\\AppData\\Local\\Temp\\ipykernel_34224\\2218014294.py:13: FutureWarning: The frame.append method is deprecated and will be removed from pandas in a future version. Use pandas.concat instead.\n",
      "  combined_df = combined_df.append(df, ignore_index=True)\n",
      "C:\\Users\\KASHANI\\AppData\\Local\\Temp\\ipykernel_34224\\2218014294.py:13: FutureWarning: The frame.append method is deprecated and will be removed from pandas in a future version. Use pandas.concat instead.\n",
      "  combined_df = combined_df.append(df, ignore_index=True)\n"
     ]
    },
    {
     "data": {
      "text/plain": "                    Name         X         Y         Z  \\\n0         Truck(Clone)_3 -538.6110 -0.508458 -237.7938   \n1        Truck(Clone)_15 -564.6526 -0.508535 -208.3599   \n2        Truck(Clone)_26 -572.3984  0.413536 -199.8323   \n3         Truck(Clone)_3 -536.0472 -0.508471 -240.7757   \n4        Truck(Clone)_15 -562.9890 -0.508377 -210.1915   \n...                  ...       ...       ...       ...   \n95616  humanCasual 4_1   -163.7393 -1.582020  659.8047   \n95617  humanCasual 4_1   -163.7393 -1.582020  659.8047   \n95618  humanCasual 4_1   -163.7393 -1.582020  659.8047   \n95619  humanCasual 4_1   -163.7393 -1.582020  659.8047   \n95620  humanCasual 4_1   -163.7393 -1.582020  659.8047   \n\n                           Time  Frame Box_State   Sensor Names   \\\n0      2024-03-17 02:20:20.353      26    Yellow  RSU_cross1_s1|   \n1      2024-03-17 02:20:20.358      26    Yellow  RSU_cross1_s1|   \n2      2024-03-17 02:20:20.359      26     Green             NaN   \n3      2024-03-17 02:20:20.624      27    Yellow  RSU_cross1_s1|   \n4      2024-03-17 02:20:20.625      27    Yellow  RSU_cross1_s1|   \n...                         ...    ...       ...             ...   \n95616  2024-03-17 00:11:41.835     742     Green             NaN   \n95617  2024-03-17 00:11:41.868     742     Green             NaN   \n95618  2024-03-17 00:11:41.875     742     Green             NaN   \n95619  2024-03-17 00:11:41.911     742     Green             NaN   \n95620  2024-03-17 00:11:41.941     742     Green             NaN   \n\n                                            Sensor Names  \n0                                                    NaN  \n1                                                    NaN  \n2                                                    NaN  \n3                                                    NaN  \n4                                                    NaN  \n...                                                  ...  \n95616  RSU_cam_cross4_c3|RSU_cam_cross4_c3|RSU_cam_cr...  \n95617  RSU_cam_cross4_c3|RSU_cam_cross4_c3|RSU_cam_cr...  \n95618  RSU_cam_cross4_c3|RSU_cam_cross4_c3|RSU_cam_cr...  \n95619  RSU_cam_cross4_c3|RSU_cam_cross4_c3|RSU_cam_cr...  \n95620  RSU_cam_cross4_c3|RSU_cam_cross4_c3|RSU_cam_cr...  \n\n[95621 rows x 9 columns]",
      "text/html": "<div>\n<style scoped>\n    .dataframe tbody tr th:only-of-type {\n        vertical-align: middle;\n    }\n\n    .dataframe tbody tr th {\n        vertical-align: top;\n    }\n\n    .dataframe thead th {\n        text-align: right;\n    }\n</style>\n<table border=\"1\" class=\"dataframe\">\n  <thead>\n    <tr style=\"text-align: right;\">\n      <th></th>\n      <th>Name</th>\n      <th>X</th>\n      <th>Y</th>\n      <th>Z</th>\n      <th>Time</th>\n      <th>Frame</th>\n      <th>Box_State</th>\n      <th>Sensor Names</th>\n      <th>Sensor Names</th>\n    </tr>\n  </thead>\n  <tbody>\n    <tr>\n      <th>0</th>\n      <td>Truck(Clone)_3</td>\n      <td>-538.6110</td>\n      <td>-0.508458</td>\n      <td>-237.7938</td>\n      <td>2024-03-17 02:20:20.353</td>\n      <td>26</td>\n      <td>Yellow</td>\n      <td>RSU_cross1_s1|</td>\n      <td>NaN</td>\n    </tr>\n    <tr>\n      <th>1</th>\n      <td>Truck(Clone)_15</td>\n      <td>-564.6526</td>\n      <td>-0.508535</td>\n      <td>-208.3599</td>\n      <td>2024-03-17 02:20:20.358</td>\n      <td>26</td>\n      <td>Yellow</td>\n      <td>RSU_cross1_s1|</td>\n      <td>NaN</td>\n    </tr>\n    <tr>\n      <th>2</th>\n      <td>Truck(Clone)_26</td>\n      <td>-572.3984</td>\n      <td>0.413536</td>\n      <td>-199.8323</td>\n      <td>2024-03-17 02:20:20.359</td>\n      <td>26</td>\n      <td>Green</td>\n      <td>NaN</td>\n      <td>NaN</td>\n    </tr>\n    <tr>\n      <th>3</th>\n      <td>Truck(Clone)_3</td>\n      <td>-536.0472</td>\n      <td>-0.508471</td>\n      <td>-240.7757</td>\n      <td>2024-03-17 02:20:20.624</td>\n      <td>27</td>\n      <td>Yellow</td>\n      <td>RSU_cross1_s1|</td>\n      <td>NaN</td>\n    </tr>\n    <tr>\n      <th>4</th>\n      <td>Truck(Clone)_15</td>\n      <td>-562.9890</td>\n      <td>-0.508377</td>\n      <td>-210.1915</td>\n      <td>2024-03-17 02:20:20.625</td>\n      <td>27</td>\n      <td>Yellow</td>\n      <td>RSU_cross1_s1|</td>\n      <td>NaN</td>\n    </tr>\n    <tr>\n      <th>...</th>\n      <td>...</td>\n      <td>...</td>\n      <td>...</td>\n      <td>...</td>\n      <td>...</td>\n      <td>...</td>\n      <td>...</td>\n      <td>...</td>\n      <td>...</td>\n    </tr>\n    <tr>\n      <th>95616</th>\n      <td>humanCasual 4_1</td>\n      <td>-163.7393</td>\n      <td>-1.582020</td>\n      <td>659.8047</td>\n      <td>2024-03-17 00:11:41.835</td>\n      <td>742</td>\n      <td>Green</td>\n      <td>NaN</td>\n      <td>RSU_cam_cross4_c3|RSU_cam_cross4_c3|RSU_cam_cr...</td>\n    </tr>\n    <tr>\n      <th>95617</th>\n      <td>humanCasual 4_1</td>\n      <td>-163.7393</td>\n      <td>-1.582020</td>\n      <td>659.8047</td>\n      <td>2024-03-17 00:11:41.868</td>\n      <td>742</td>\n      <td>Green</td>\n      <td>NaN</td>\n      <td>RSU_cam_cross4_c3|RSU_cam_cross4_c3|RSU_cam_cr...</td>\n    </tr>\n    <tr>\n      <th>95618</th>\n      <td>humanCasual 4_1</td>\n      <td>-163.7393</td>\n      <td>-1.582020</td>\n      <td>659.8047</td>\n      <td>2024-03-17 00:11:41.875</td>\n      <td>742</td>\n      <td>Green</td>\n      <td>NaN</td>\n      <td>RSU_cam_cross4_c3|RSU_cam_cross4_c3|RSU_cam_cr...</td>\n    </tr>\n    <tr>\n      <th>95619</th>\n      <td>humanCasual 4_1</td>\n      <td>-163.7393</td>\n      <td>-1.582020</td>\n      <td>659.8047</td>\n      <td>2024-03-17 00:11:41.911</td>\n      <td>742</td>\n      <td>Green</td>\n      <td>NaN</td>\n      <td>RSU_cam_cross4_c3|RSU_cam_cross4_c3|RSU_cam_cr...</td>\n    </tr>\n    <tr>\n      <th>95620</th>\n      <td>humanCasual 4_1</td>\n      <td>-163.7393</td>\n      <td>-1.582020</td>\n      <td>659.8047</td>\n      <td>2024-03-17 00:11:41.941</td>\n      <td>742</td>\n      <td>Green</td>\n      <td>NaN</td>\n      <td>RSU_cam_cross4_c3|RSU_cam_cross4_c3|RSU_cam_cr...</td>\n    </tr>\n  </tbody>\n</table>\n<p>95621 rows × 9 columns</p>\n</div>"
     },
     "execution_count": 3,
     "metadata": {},
     "output_type": "execute_result"
    }
   ],
   "source": [
    "# Define the directory path where your CSV files are stored\n",
    "directory_path = './saved_logs/try1_with bus/'\n",
    "\n",
    "# Use glob to find all the CSV files in the directory\n",
    "csv_files = glob.glob(f\"{directory_path}/*.csv\")\n",
    "\n",
    "# Initialize an empty DataFrame to append all CSV data\n",
    "combined_df = pd.DataFrame()\n",
    "\n",
    "# Loop through the list of csv files and append each one to the combined_df DataFrame\n",
    "for file in csv_files:\n",
    "    df = pd.read_csv(file)\n",
    "    combined_df = combined_df.append(df, ignore_index=True)\n",
    "\n",
    "df = combined_df\n",
    "df"
   ],
   "metadata": {
    "collapsed": false,
    "pycharm": {
     "name": "#%%\n"
    }
   }
  },
  {
   "cell_type": "code",
   "execution_count": 4,
   "outputs": [
    {
     "data": {
      "text/plain": "              X         Y         Z Box_State\n0     -538.6110 -0.508458 -237.7938    Yellow\n1     -564.6526 -0.508535 -208.3599    Yellow\n2     -572.3984  0.413536 -199.8323     Green\n3     -536.0472 -0.508471 -240.7757    Yellow\n4     -562.9890 -0.508377 -210.1915    Yellow\n...         ...       ...       ...       ...\n95616 -163.7393 -1.582020  659.8047     Green\n95617 -163.7393 -1.582020  659.8047     Green\n95618 -163.7393 -1.582020  659.8047     Green\n95619 -163.7393 -1.582020  659.8047     Green\n95620 -163.7393 -1.582020  659.8047     Green\n\n[95621 rows x 4 columns]",
      "text/html": "<div>\n<style scoped>\n    .dataframe tbody tr th:only-of-type {\n        vertical-align: middle;\n    }\n\n    .dataframe tbody tr th {\n        vertical-align: top;\n    }\n\n    .dataframe thead th {\n        text-align: right;\n    }\n</style>\n<table border=\"1\" class=\"dataframe\">\n  <thead>\n    <tr style=\"text-align: right;\">\n      <th></th>\n      <th>X</th>\n      <th>Y</th>\n      <th>Z</th>\n      <th>Box_State</th>\n    </tr>\n  </thead>\n  <tbody>\n    <tr>\n      <th>0</th>\n      <td>-538.6110</td>\n      <td>-0.508458</td>\n      <td>-237.7938</td>\n      <td>Yellow</td>\n    </tr>\n    <tr>\n      <th>1</th>\n      <td>-564.6526</td>\n      <td>-0.508535</td>\n      <td>-208.3599</td>\n      <td>Yellow</td>\n    </tr>\n    <tr>\n      <th>2</th>\n      <td>-572.3984</td>\n      <td>0.413536</td>\n      <td>-199.8323</td>\n      <td>Green</td>\n    </tr>\n    <tr>\n      <th>3</th>\n      <td>-536.0472</td>\n      <td>-0.508471</td>\n      <td>-240.7757</td>\n      <td>Yellow</td>\n    </tr>\n    <tr>\n      <th>4</th>\n      <td>-562.9890</td>\n      <td>-0.508377</td>\n      <td>-210.1915</td>\n      <td>Yellow</td>\n    </tr>\n    <tr>\n      <th>...</th>\n      <td>...</td>\n      <td>...</td>\n      <td>...</td>\n      <td>...</td>\n    </tr>\n    <tr>\n      <th>95616</th>\n      <td>-163.7393</td>\n      <td>-1.582020</td>\n      <td>659.8047</td>\n      <td>Green</td>\n    </tr>\n    <tr>\n      <th>95617</th>\n      <td>-163.7393</td>\n      <td>-1.582020</td>\n      <td>659.8047</td>\n      <td>Green</td>\n    </tr>\n    <tr>\n      <th>95618</th>\n      <td>-163.7393</td>\n      <td>-1.582020</td>\n      <td>659.8047</td>\n      <td>Green</td>\n    </tr>\n    <tr>\n      <th>95619</th>\n      <td>-163.7393</td>\n      <td>-1.582020</td>\n      <td>659.8047</td>\n      <td>Green</td>\n    </tr>\n    <tr>\n      <th>95620</th>\n      <td>-163.7393</td>\n      <td>-1.582020</td>\n      <td>659.8047</td>\n      <td>Green</td>\n    </tr>\n  </tbody>\n</table>\n<p>95621 rows × 4 columns</p>\n</div>"
     },
     "execution_count": 4,
     "metadata": {},
     "output_type": "execute_result"
    }
   ],
   "source": [
    "df = df[['X','Y','Z','Box_State']]\n",
    "df"
   ],
   "metadata": {
    "collapsed": false,
    "pycharm": {
     "name": "#%%\n"
    }
   }
  },
  {
   "cell_type": "code",
   "execution_count": 5,
   "outputs": [
    {
     "data": {
      "text/plain": "               X           Y          Z\n0      4304.7162  73496.5710  18.071542\n1      4334.1501  73522.6126  18.071465\n2      4342.6777  73530.3584  18.993536\n3      4301.7343  73494.0072  18.071529\n4      4332.3185  73520.9490  18.071623\n...          ...         ...        ...\n95616  5202.3147  73121.6993  16.997980\n95617  5202.3147  73121.6993  16.997980\n95618  5202.3147  73121.6993  16.997980\n95619  5202.3147  73121.6993  16.997980\n95620  5202.3147  73121.6993  16.997980\n\n[95621 rows x 3 columns]",
      "text/html": "<div>\n<style scoped>\n    .dataframe tbody tr th:only-of-type {\n        vertical-align: middle;\n    }\n\n    .dataframe tbody tr th {\n        vertical-align: top;\n    }\n\n    .dataframe thead th {\n        text-align: right;\n    }\n</style>\n<table border=\"1\" class=\"dataframe\">\n  <thead>\n    <tr style=\"text-align: right;\">\n      <th></th>\n      <th>X</th>\n      <th>Y</th>\n      <th>Z</th>\n    </tr>\n  </thead>\n  <tbody>\n    <tr>\n      <th>0</th>\n      <td>4304.7162</td>\n      <td>73496.5710</td>\n      <td>18.071542</td>\n    </tr>\n    <tr>\n      <th>1</th>\n      <td>4334.1501</td>\n      <td>73522.6126</td>\n      <td>18.071465</td>\n    </tr>\n    <tr>\n      <th>2</th>\n      <td>4342.6777</td>\n      <td>73530.3584</td>\n      <td>18.993536</td>\n    </tr>\n    <tr>\n      <th>3</th>\n      <td>4301.7343</td>\n      <td>73494.0072</td>\n      <td>18.071529</td>\n    </tr>\n    <tr>\n      <th>4</th>\n      <td>4332.3185</td>\n      <td>73520.9490</td>\n      <td>18.071623</td>\n    </tr>\n    <tr>\n      <th>...</th>\n      <td>...</td>\n      <td>...</td>\n      <td>...</td>\n    </tr>\n    <tr>\n      <th>95616</th>\n      <td>5202.3147</td>\n      <td>73121.6993</td>\n      <td>16.997980</td>\n    </tr>\n    <tr>\n      <th>95617</th>\n      <td>5202.3147</td>\n      <td>73121.6993</td>\n      <td>16.997980</td>\n    </tr>\n    <tr>\n      <th>95618</th>\n      <td>5202.3147</td>\n      <td>73121.6993</td>\n      <td>16.997980</td>\n    </tr>\n    <tr>\n      <th>95619</th>\n      <td>5202.3147</td>\n      <td>73121.6993</td>\n      <td>16.997980</td>\n    </tr>\n    <tr>\n      <th>95620</th>\n      <td>5202.3147</td>\n      <td>73121.6993</td>\n      <td>16.997980</td>\n    </tr>\n  </tbody>\n</table>\n<p>95621 rows × 3 columns</p>\n</div>"
     },
     "execution_count": 5,
     "metadata": {},
     "output_type": "execute_result"
    }
   ],
   "source": [
    "combined_df = pd.DataFrame({\n",
    "    'X': combined_df['Z'],\n",
    "    'Y': -combined_df['X'],\n",
    "    'Z': combined_df['Y'],\n",
    "})\n",
    "\n",
    "MGRS_offset_center = pd.Series({'X': 4542.51, 'Y': 72957.96, 'Z': 18.58})\n",
    "\n",
    "# Add the vector to each row in the DataFrame\n",
    "combined_df = combined_df.add(MGRS_offset_center, axis='columns')\n",
    "combined_df\n"
   ],
   "metadata": {
    "collapsed": false,
    "pycharm": {
     "name": "#%%\n"
    }
   }
  },
  {
   "cell_type": "code",
   "execution_count": 6,
   "outputs": [
    {
     "data": {
      "text/plain": "               X           Y          Z Box_State\n0      4304.7162  73496.5710  18.071542    Yellow\n1      4334.1501  73522.6126  18.071465    Yellow\n2      4342.6777  73530.3584  18.993536     Green\n3      4301.7343  73494.0072  18.071529    Yellow\n4      4332.3185  73520.9490  18.071623    Yellow\n...          ...         ...        ...       ...\n95616  5202.3147  73121.6993  16.997980     Green\n95617  5202.3147  73121.6993  16.997980     Green\n95618  5202.3147  73121.6993  16.997980     Green\n95619  5202.3147  73121.6993  16.997980     Green\n95620  5202.3147  73121.6993  16.997980     Green\n\n[95621 rows x 4 columns]",
      "text/html": "<div>\n<style scoped>\n    .dataframe tbody tr th:only-of-type {\n        vertical-align: middle;\n    }\n\n    .dataframe tbody tr th {\n        vertical-align: top;\n    }\n\n    .dataframe thead th {\n        text-align: right;\n    }\n</style>\n<table border=\"1\" class=\"dataframe\">\n  <thead>\n    <tr style=\"text-align: right;\">\n      <th></th>\n      <th>X</th>\n      <th>Y</th>\n      <th>Z</th>\n      <th>Box_State</th>\n    </tr>\n  </thead>\n  <tbody>\n    <tr>\n      <th>0</th>\n      <td>4304.7162</td>\n      <td>73496.5710</td>\n      <td>18.071542</td>\n      <td>Yellow</td>\n    </tr>\n    <tr>\n      <th>1</th>\n      <td>4334.1501</td>\n      <td>73522.6126</td>\n      <td>18.071465</td>\n      <td>Yellow</td>\n    </tr>\n    <tr>\n      <th>2</th>\n      <td>4342.6777</td>\n      <td>73530.3584</td>\n      <td>18.993536</td>\n      <td>Green</td>\n    </tr>\n    <tr>\n      <th>3</th>\n      <td>4301.7343</td>\n      <td>73494.0072</td>\n      <td>18.071529</td>\n      <td>Yellow</td>\n    </tr>\n    <tr>\n      <th>4</th>\n      <td>4332.3185</td>\n      <td>73520.9490</td>\n      <td>18.071623</td>\n      <td>Yellow</td>\n    </tr>\n    <tr>\n      <th>...</th>\n      <td>...</td>\n      <td>...</td>\n      <td>...</td>\n      <td>...</td>\n    </tr>\n    <tr>\n      <th>95616</th>\n      <td>5202.3147</td>\n      <td>73121.6993</td>\n      <td>16.997980</td>\n      <td>Green</td>\n    </tr>\n    <tr>\n      <th>95617</th>\n      <td>5202.3147</td>\n      <td>73121.6993</td>\n      <td>16.997980</td>\n      <td>Green</td>\n    </tr>\n    <tr>\n      <th>95618</th>\n      <td>5202.3147</td>\n      <td>73121.6993</td>\n      <td>16.997980</td>\n      <td>Green</td>\n    </tr>\n    <tr>\n      <th>95619</th>\n      <td>5202.3147</td>\n      <td>73121.6993</td>\n      <td>16.997980</td>\n      <td>Green</td>\n    </tr>\n    <tr>\n      <th>95620</th>\n      <td>5202.3147</td>\n      <td>73121.6993</td>\n      <td>16.997980</td>\n      <td>Green</td>\n    </tr>\n  </tbody>\n</table>\n<p>95621 rows × 4 columns</p>\n</div>"
     },
     "execution_count": 6,
     "metadata": {},
     "output_type": "execute_result"
    }
   ],
   "source": [
    "df = pd.DataFrame({\n",
    "    'X': combined_df['X'],\n",
    "    'Y': combined_df['Y'],\n",
    "    'Z': combined_df['Z'],\n",
    "    'Box_State': df['Box_State']\n",
    "})\n",
    "df"
   ],
   "metadata": {
    "collapsed": false,
    "pycharm": {
     "name": "#%%\n"
    }
   }
  },
  {
   "cell_type": "code",
   "execution_count": 7,
   "outputs": [
    {
     "data": {
      "text/plain": "(27896, 83496, 271092)"
     },
     "execution_count": 7,
     "metadata": {},
     "output_type": "execute_result"
    }
   ],
   "source": [
    "yellow_box_state_df = df[df['Box_State'] == 'Yellow']\n",
    "red_box_state_df = df[df['Box_State'] == 'Red']\n",
    "green_box_state_df = df[df['Box_State'] == 'Green']\n",
    "\n",
    "yellow_box_state_df.size,red_box_state_df.size , green_box_state_df.size"
   ],
   "metadata": {
    "collapsed": false,
    "pycharm": {
     "name": "#%%\n"
    }
   }
  },
  {
   "cell_type": "markdown",
   "source": [
    "# Conversion\n"
   ],
   "metadata": {
    "collapsed": false,
    "pycharm": {
     "name": "#%% md\n"
    }
   }
  },
  {
   "cell_type": "code",
   "execution_count": 8,
   "outputs": [],
   "source": [
    "mgrs_code = \"54SVE\""
   ],
   "metadata": {
    "collapsed": false,
    "pycharm": {
     "name": "#%%\n"
    }
   }
  },
  {
   "cell_type": "code",
   "execution_count": 9,
   "outputs": [],
   "source": [
    "def digits_extractor(input):\n",
    "    tenth_thousand = (input // 10000) % 10\n",
    "    thousanth = (input // 1000) % 10\n",
    "    hundreth = (input // 100) % 10\n",
    "\n",
    "    result = str(int(tenth_thousand * 100 + thousanth * 10 + hundreth))\n",
    "    if len(result) == 2:\n",
    "        result = \"0\" + result\n",
    "    elif len(result) == 1:\n",
    "        result = \"00\" + result\n",
    "    return result"
   ],
   "metadata": {
    "collapsed": false,
    "pycharm": {
     "name": "#%%\n"
    }
   }
  },
  {
   "cell_type": "code",
   "execution_count": 10,
   "outputs": [],
   "source": [
    "def conver_to_MGRS(df):\n",
    "    mgrs_code_prefix = \"54SVE\"\n",
    "\n",
    "    # Calculate the MGRS code by appending the first three digits of 'X' and 'Y'\n",
    "    df['MGRS_Code'] = mgrs_code_prefix + df['X'].apply(digits_extractor) + df['Y'].apply(digits_extractor)\n",
    "\n",
    "\n",
    "\n",
    "\n",
    "    # Extract the local X and Y which are the decimal parts of 'X' and 'Y'\n",
    "    df['Local_X'] = df['X']%100\n",
    "    df['Local_Y'] = df['Y']%100\n",
    "\n",
    "    # Create a new DataFrame with the desired columns\n",
    "    new_df = df[['MGRS_Code', 'Local_X', 'Local_Y']]\n",
    "    return new_df"
   ],
   "metadata": {
    "collapsed": false,
    "pycharm": {
     "name": "#%%\n"
    }
   }
  },
  {
   "cell_type": "markdown",
   "source": [
    "### new version\n"
   ],
   "metadata": {
    "collapsed": false,
    "pycharm": {
     "name": "#%% md\n"
    }
   }
  },
  {
   "cell_type": "code",
   "execution_count": 11,
   "outputs": [
    {
     "name": "stderr",
     "output_type": "stream",
     "text": [
      "C:\\Users\\KASHANI\\AppData\\Local\\Temp\\ipykernel_34224\\3034027603.py:5: SettingWithCopyWarning: \n",
      "A value is trying to be set on a copy of a slice from a DataFrame.\n",
      "Try using .loc[row_indexer,col_indexer] = value instead\n",
      "\n",
      "See the caveats in the documentation: https://pandas.pydata.org/pandas-docs/stable/user_guide/indexing.html#returning-a-view-versus-a-copy\n",
      "  df['MGRS_Code'] = mgrs_code_prefix + df['X'].apply(digits_extractor) + df['Y'].apply(digits_extractor)\n",
      "C:\\Users\\KASHANI\\AppData\\Local\\Temp\\ipykernel_34224\\3034027603.py:11: SettingWithCopyWarning: \n",
      "A value is trying to be set on a copy of a slice from a DataFrame.\n",
      "Try using .loc[row_indexer,col_indexer] = value instead\n",
      "\n",
      "See the caveats in the documentation: https://pandas.pydata.org/pandas-docs/stable/user_guide/indexing.html#returning-a-view-versus-a-copy\n",
      "  df['Local_X'] = df['X']%100\n",
      "C:\\Users\\KASHANI\\AppData\\Local\\Temp\\ipykernel_34224\\3034027603.py:12: SettingWithCopyWarning: \n",
      "A value is trying to be set on a copy of a slice from a DataFrame.\n",
      "Try using .loc[row_indexer,col_indexer] = value instead\n",
      "\n",
      "See the caveats in the documentation: https://pandas.pydata.org/pandas-docs/stable/user_guide/indexing.html#returning-a-view-versus-a-copy\n",
      "  df['Local_Y'] = df['Y']%100\n"
     ]
    },
    {
     "data": {
      "text/plain": "         MGRS_Code  Local_X  Local_Y\n0      54SVE043734   4.7162  96.5710\n1      54SVE043735  34.1501  22.6126\n3      54SVE043734   1.7343  94.0072\n4      54SVE043735  32.3185  20.9490\n5      54SVE043735  42.6777  30.3583\n...            ...      ...      ...\n94454  54SVE052731   6.4426  21.2818\n94455  54SVE052731   6.4426  21.2818\n94456  54SVE052731   6.4426  21.2818\n94457  54SVE052731   6.4426  21.2818\n94458  54SVE052731   6.4426  21.2818\n\n[6974 rows x 3 columns]",
      "text/html": "<div>\n<style scoped>\n    .dataframe tbody tr th:only-of-type {\n        vertical-align: middle;\n    }\n\n    .dataframe tbody tr th {\n        vertical-align: top;\n    }\n\n    .dataframe thead th {\n        text-align: right;\n    }\n</style>\n<table border=\"1\" class=\"dataframe\">\n  <thead>\n    <tr style=\"text-align: right;\">\n      <th></th>\n      <th>MGRS_Code</th>\n      <th>Local_X</th>\n      <th>Local_Y</th>\n    </tr>\n  </thead>\n  <tbody>\n    <tr>\n      <th>0</th>\n      <td>54SVE043734</td>\n      <td>4.7162</td>\n      <td>96.5710</td>\n    </tr>\n    <tr>\n      <th>1</th>\n      <td>54SVE043735</td>\n      <td>34.1501</td>\n      <td>22.6126</td>\n    </tr>\n    <tr>\n      <th>3</th>\n      <td>54SVE043734</td>\n      <td>1.7343</td>\n      <td>94.0072</td>\n    </tr>\n    <tr>\n      <th>4</th>\n      <td>54SVE043735</td>\n      <td>32.3185</td>\n      <td>20.9490</td>\n    </tr>\n    <tr>\n      <th>5</th>\n      <td>54SVE043735</td>\n      <td>42.6777</td>\n      <td>30.3583</td>\n    </tr>\n    <tr>\n      <th>...</th>\n      <td>...</td>\n      <td>...</td>\n      <td>...</td>\n    </tr>\n    <tr>\n      <th>94454</th>\n      <td>54SVE052731</td>\n      <td>6.4426</td>\n      <td>21.2818</td>\n    </tr>\n    <tr>\n      <th>94455</th>\n      <td>54SVE052731</td>\n      <td>6.4426</td>\n      <td>21.2818</td>\n    </tr>\n    <tr>\n      <th>94456</th>\n      <td>54SVE052731</td>\n      <td>6.4426</td>\n      <td>21.2818</td>\n    </tr>\n    <tr>\n      <th>94457</th>\n      <td>54SVE052731</td>\n      <td>6.4426</td>\n      <td>21.2818</td>\n    </tr>\n    <tr>\n      <th>94458</th>\n      <td>54SVE052731</td>\n      <td>6.4426</td>\n      <td>21.2818</td>\n    </tr>\n  </tbody>\n</table>\n<p>6974 rows × 3 columns</p>\n</div>"
     },
     "execution_count": 11,
     "metadata": {},
     "output_type": "execute_result"
    }
   ],
   "source": [
    "yellow_box_state_df = conver_to_MGRS(yellow_box_state_df)\n",
    "yellow_box_state_df"
   ],
   "metadata": {
    "collapsed": false,
    "pycharm": {
     "name": "#%%\n"
    }
   }
  },
  {
   "cell_type": "code",
   "execution_count": 12,
   "outputs": [
    {
     "name": "stderr",
     "output_type": "stream",
     "text": [
      "C:\\Users\\KASHANI\\AppData\\Local\\Temp\\ipykernel_34224\\3034027603.py:5: SettingWithCopyWarning: \n",
      "A value is trying to be set on a copy of a slice from a DataFrame.\n",
      "Try using .loc[row_indexer,col_indexer] = value instead\n",
      "\n",
      "See the caveats in the documentation: https://pandas.pydata.org/pandas-docs/stable/user_guide/indexing.html#returning-a-view-versus-a-copy\n",
      "  df['MGRS_Code'] = mgrs_code_prefix + df['X'].apply(digits_extractor) + df['Y'].apply(digits_extractor)\n",
      "C:\\Users\\KASHANI\\AppData\\Local\\Temp\\ipykernel_34224\\3034027603.py:11: SettingWithCopyWarning: \n",
      "A value is trying to be set on a copy of a slice from a DataFrame.\n",
      "Try using .loc[row_indexer,col_indexer] = value instead\n",
      "\n",
      "See the caveats in the documentation: https://pandas.pydata.org/pandas-docs/stable/user_guide/indexing.html#returning-a-view-versus-a-copy\n",
      "  df['Local_X'] = df['X']%100\n",
      "C:\\Users\\KASHANI\\AppData\\Local\\Temp\\ipykernel_34224\\3034027603.py:12: SettingWithCopyWarning: \n",
      "A value is trying to be set on a copy of a slice from a DataFrame.\n",
      "Try using .loc[row_indexer,col_indexer] = value instead\n",
      "\n",
      "See the caveats in the documentation: https://pandas.pydata.org/pandas-docs/stable/user_guide/indexing.html#returning-a-view-versus-a-copy\n",
      "  df['Local_Y'] = df['Y']%100\n"
     ]
    },
    {
     "data": {
      "text/plain": "         MGRS_Code   Local_X   Local_Y\n40     54SVE043735  42.67770  30.35840\n44     54SVE043735  42.67760  30.35840\n48     54SVE043735  42.62840  30.31350\n52     54SVE043735  42.47710  30.17640\n56     54SVE043735  42.13120  29.86200\n...            ...       ...       ...\n81319  54SVE044729  91.28393  46.61331\n81320  54SVE044729  91.28393  46.61331\n81321  54SVE044729  91.28393  46.61331\n81322  54SVE044729  91.28393  46.61331\n81323  54SVE044729  91.28393  46.61331\n\n[20874 rows x 3 columns]",
      "text/html": "<div>\n<style scoped>\n    .dataframe tbody tr th:only-of-type {\n        vertical-align: middle;\n    }\n\n    .dataframe tbody tr th {\n        vertical-align: top;\n    }\n\n    .dataframe thead th {\n        text-align: right;\n    }\n</style>\n<table border=\"1\" class=\"dataframe\">\n  <thead>\n    <tr style=\"text-align: right;\">\n      <th></th>\n      <th>MGRS_Code</th>\n      <th>Local_X</th>\n      <th>Local_Y</th>\n    </tr>\n  </thead>\n  <tbody>\n    <tr>\n      <th>40</th>\n      <td>54SVE043735</td>\n      <td>42.67770</td>\n      <td>30.35840</td>\n    </tr>\n    <tr>\n      <th>44</th>\n      <td>54SVE043735</td>\n      <td>42.67760</td>\n      <td>30.35840</td>\n    </tr>\n    <tr>\n      <th>48</th>\n      <td>54SVE043735</td>\n      <td>42.62840</td>\n      <td>30.31350</td>\n    </tr>\n    <tr>\n      <th>52</th>\n      <td>54SVE043735</td>\n      <td>42.47710</td>\n      <td>30.17640</td>\n    </tr>\n    <tr>\n      <th>56</th>\n      <td>54SVE043735</td>\n      <td>42.13120</td>\n      <td>29.86200</td>\n    </tr>\n    <tr>\n      <th>...</th>\n      <td>...</td>\n      <td>...</td>\n      <td>...</td>\n    </tr>\n    <tr>\n      <th>81319</th>\n      <td>54SVE044729</td>\n      <td>91.28393</td>\n      <td>46.61331</td>\n    </tr>\n    <tr>\n      <th>81320</th>\n      <td>54SVE044729</td>\n      <td>91.28393</td>\n      <td>46.61331</td>\n    </tr>\n    <tr>\n      <th>81321</th>\n      <td>54SVE044729</td>\n      <td>91.28393</td>\n      <td>46.61331</td>\n    </tr>\n    <tr>\n      <th>81322</th>\n      <td>54SVE044729</td>\n      <td>91.28393</td>\n      <td>46.61331</td>\n    </tr>\n    <tr>\n      <th>81323</th>\n      <td>54SVE044729</td>\n      <td>91.28393</td>\n      <td>46.61331</td>\n    </tr>\n  </tbody>\n</table>\n<p>20874 rows × 3 columns</p>\n</div>"
     },
     "execution_count": 12,
     "metadata": {},
     "output_type": "execute_result"
    }
   ],
   "source": [
    "red_box_state_df = conver_to_MGRS(red_box_state_df)\n",
    "red_box_state_df"
   ],
   "metadata": {
    "collapsed": false,
    "pycharm": {
     "name": "#%%\n"
    }
   }
  },
  {
   "cell_type": "code",
   "execution_count": 13,
   "outputs": [
    {
     "name": "stderr",
     "output_type": "stream",
     "text": [
      "C:\\Users\\KASHANI\\AppData\\Local\\Temp\\ipykernel_34224\\3034027603.py:5: SettingWithCopyWarning: \n",
      "A value is trying to be set on a copy of a slice from a DataFrame.\n",
      "Try using .loc[row_indexer,col_indexer] = value instead\n",
      "\n",
      "See the caveats in the documentation: https://pandas.pydata.org/pandas-docs/stable/user_guide/indexing.html#returning-a-view-versus-a-copy\n",
      "  df['MGRS_Code'] = mgrs_code_prefix + df['X'].apply(digits_extractor) + df['Y'].apply(digits_extractor)\n",
      "C:\\Users\\KASHANI\\AppData\\Local\\Temp\\ipykernel_34224\\3034027603.py:11: SettingWithCopyWarning: \n",
      "A value is trying to be set on a copy of a slice from a DataFrame.\n",
      "Try using .loc[row_indexer,col_indexer] = value instead\n",
      "\n",
      "See the caveats in the documentation: https://pandas.pydata.org/pandas-docs/stable/user_guide/indexing.html#returning-a-view-versus-a-copy\n",
      "  df['Local_X'] = df['X']%100\n",
      "C:\\Users\\KASHANI\\AppData\\Local\\Temp\\ipykernel_34224\\3034027603.py:12: SettingWithCopyWarning: \n",
      "A value is trying to be set on a copy of a slice from a DataFrame.\n",
      "Try using .loc[row_indexer,col_indexer] = value instead\n",
      "\n",
      "See the caveats in the documentation: https://pandas.pydata.org/pandas-docs/stable/user_guide/indexing.html#returning-a-view-versus-a-copy\n",
      "  df['Local_Y'] = df['Y']%100\n"
     ]
    },
    {
     "data": {
      "text/plain": "         MGRS_Code  Local_X  Local_Y\n2      54SVE043735  42.6777  30.3584\n36     54SVE043735  42.6777  30.3583\n37     54SVE042734  73.8072  70.9617\n41     54SVE042734  71.8973  69.4088\n45     54SVE042734  69.6448  67.2996\n...            ...      ...      ...\n95616  54SVE052731   2.3147  21.6993\n95617  54SVE052731   2.3147  21.6993\n95618  54SVE052731   2.3147  21.6993\n95619  54SVE052731   2.3147  21.6993\n95620  54SVE052731   2.3147  21.6993\n\n[67773 rows x 3 columns]",
      "text/html": "<div>\n<style scoped>\n    .dataframe tbody tr th:only-of-type {\n        vertical-align: middle;\n    }\n\n    .dataframe tbody tr th {\n        vertical-align: top;\n    }\n\n    .dataframe thead th {\n        text-align: right;\n    }\n</style>\n<table border=\"1\" class=\"dataframe\">\n  <thead>\n    <tr style=\"text-align: right;\">\n      <th></th>\n      <th>MGRS_Code</th>\n      <th>Local_X</th>\n      <th>Local_Y</th>\n    </tr>\n  </thead>\n  <tbody>\n    <tr>\n      <th>2</th>\n      <td>54SVE043735</td>\n      <td>42.6777</td>\n      <td>30.3584</td>\n    </tr>\n    <tr>\n      <th>36</th>\n      <td>54SVE043735</td>\n      <td>42.6777</td>\n      <td>30.3583</td>\n    </tr>\n    <tr>\n      <th>37</th>\n      <td>54SVE042734</td>\n      <td>73.8072</td>\n      <td>70.9617</td>\n    </tr>\n    <tr>\n      <th>41</th>\n      <td>54SVE042734</td>\n      <td>71.8973</td>\n      <td>69.4088</td>\n    </tr>\n    <tr>\n      <th>45</th>\n      <td>54SVE042734</td>\n      <td>69.6448</td>\n      <td>67.2996</td>\n    </tr>\n    <tr>\n      <th>...</th>\n      <td>...</td>\n      <td>...</td>\n      <td>...</td>\n    </tr>\n    <tr>\n      <th>95616</th>\n      <td>54SVE052731</td>\n      <td>2.3147</td>\n      <td>21.6993</td>\n    </tr>\n    <tr>\n      <th>95617</th>\n      <td>54SVE052731</td>\n      <td>2.3147</td>\n      <td>21.6993</td>\n    </tr>\n    <tr>\n      <th>95618</th>\n      <td>54SVE052731</td>\n      <td>2.3147</td>\n      <td>21.6993</td>\n    </tr>\n    <tr>\n      <th>95619</th>\n      <td>54SVE052731</td>\n      <td>2.3147</td>\n      <td>21.6993</td>\n    </tr>\n    <tr>\n      <th>95620</th>\n      <td>54SVE052731</td>\n      <td>2.3147</td>\n      <td>21.6993</td>\n    </tr>\n  </tbody>\n</table>\n<p>67773 rows × 3 columns</p>\n</div>"
     },
     "execution_count": 13,
     "metadata": {},
     "output_type": "execute_result"
    }
   ],
   "source": [
    "green_box_state_df = conver_to_MGRS(green_box_state_df)\n",
    "green_box_state_df"
   ],
   "metadata": {
    "collapsed": false,
    "pycharm": {
     "name": "#%%\n"
    }
   }
  },
  {
   "cell_type": "markdown",
   "source": [
    "MGRS Convertor\n"
   ],
   "metadata": {
    "collapsed": false,
    "pycharm": {
     "name": "#%% md\n"
    }
   }
  },
  {
   "cell_type": "code",
   "execution_count": 14,
   "outputs": [],
   "source": [
    "import mgrs\n",
    "from pyproj import Transformer"
   ],
   "metadata": {
    "collapsed": false,
    "pycharm": {
     "name": "#%%\n"
    }
   }
  },
  {
   "cell_type": "code",
   "execution_count": 15,
   "outputs": [],
   "source": [
    "def mgrs_to_latlon_with_offset(mgrs_code, local_x, local_y):\n",
    "    # Initialize MGRS converter\n",
    "    m_converter = mgrs.MGRS()\n",
    "\n",
    "    # Convert MGRS to latitude and longitude\n",
    "    latlon = m_converter.toLatLon(mgrs_code.encode('utf-8'))\n",
    "\n",
    "    # Extract initial latitude and longitude\n",
    "    initial_lat, initial_lon = latlon\n",
    "\n",
    "    # Find UTM zone and hemisphere from the MGRS code\n",
    "    utm_zone = mgrs_code[:3]\n",
    "    is_southern = 'S' in mgrs_code\n",
    "\n",
    "    # Define transformer from UTM to WGS84 (and vice versa)\n",
    "    # This automatically considers the hemisphere based on latitude\n",
    "    transformer_to_utm = Transformer.from_crs(f\"EPSG:4326\", f\"EPSG:326{utm_zone[:2]}\", always_xy=True)\n",
    "    transformer_to_wgs = Transformer.from_crs(f\"EPSG:326{utm_zone[:2]}\", \"EPSG:4326\", always_xy=True)\n",
    "\n",
    "    if is_southern:\n",
    "        transformer_to_utm = Transformer.from_crs(f\"EPSG:4326\", f\"EPSG:327{utm_zone[:2]}\", always_xy=True)\n",
    "        transformer_to_wgs = Transformer.from_crs(f\"EPSG:327{utm_zone[:2]}\", \"EPSG:4326\", always_xy=True)\n",
    "\n",
    "    # Convert initial latlon to UTM\n",
    "    x, y = transformer_to_utm.transform(initial_lon, initial_lat)\n",
    "\n",
    "    # Apply offsets\n",
    "    x_adjusted = x + local_x\n",
    "    y_adjusted = y + local_y\n",
    "\n",
    "    # Convert back to WGS84\n",
    "    lon_adjusted, lat_adjusted = transformer_to_wgs.transform(x_adjusted, y_adjusted)\n",
    "\n",
    "    return lat_adjusted, lon_adjusted"
   ],
   "metadata": {
    "collapsed": false,
    "pycharm": {
     "name": "#%%\n"
    }
   }
  },
  {
   "cell_type": "markdown",
   "source": [
    "# new system"
   ],
   "metadata": {
    "collapsed": false,
    "pycharm": {
     "name": "#%% md\n"
    }
   }
  },
  {
   "cell_type": "code",
   "execution_count": 17,
   "outputs": [],
   "source": [
    "reds = red_box_state_df.apply(lambda row: mgrs_to_latlon_with_offset(row['MGRS_Code'], row['Local_X'], row['Local_Y']), axis=1)\n",
    "reds = pd.DataFrame(reds.tolist(), columns=['Latitude', 'Longitude'])\n",
    "\n",
    "yellows = yellow_box_state_df.apply(lambda row: mgrs_to_latlon_with_offset(row['MGRS_Code'], row['Local_X'], row['Local_Y']), axis=1)\n",
    "\n",
    "yellows = pd.DataFrame(yellows.tolist(), columns=['Latitude', 'Longitude'])\n",
    "\n"
   ],
   "metadata": {
    "collapsed": false,
    "pycharm": {
     "name": "#%%\n"
    }
   }
  },
  {
   "cell_type": "code",
   "execution_count": 18,
   "outputs": [
    {
     "data": {
      "text/plain": "        Latitude   Longitude\n0      35.901392  139.939983\n1      35.901392  139.939983\n2      35.900850  139.939227\n3      35.900835  139.939206\n4      35.900816  139.939181\n...          ...         ...\n67768  35.897792  139.949556\n67769  35.897792  139.949556\n67770  35.897792  139.949556\n67771  35.897792  139.949556\n67772  35.897792  139.949556\n\n[67773 rows x 2 columns]",
      "text/html": "<div>\n<style scoped>\n    .dataframe tbody tr th:only-of-type {\n        vertical-align: middle;\n    }\n\n    .dataframe tbody tr th {\n        vertical-align: top;\n    }\n\n    .dataframe thead th {\n        text-align: right;\n    }\n</style>\n<table border=\"1\" class=\"dataframe\">\n  <thead>\n    <tr style=\"text-align: right;\">\n      <th></th>\n      <th>Latitude</th>\n      <th>Longitude</th>\n    </tr>\n  </thead>\n  <tbody>\n    <tr>\n      <th>0</th>\n      <td>35.901392</td>\n      <td>139.939983</td>\n    </tr>\n    <tr>\n      <th>1</th>\n      <td>35.901392</td>\n      <td>139.939983</td>\n    </tr>\n    <tr>\n      <th>2</th>\n      <td>35.900850</td>\n      <td>139.939227</td>\n    </tr>\n    <tr>\n      <th>3</th>\n      <td>35.900835</td>\n      <td>139.939206</td>\n    </tr>\n    <tr>\n      <th>4</th>\n      <td>35.900816</td>\n      <td>139.939181</td>\n    </tr>\n    <tr>\n      <th>...</th>\n      <td>...</td>\n      <td>...</td>\n    </tr>\n    <tr>\n      <th>67768</th>\n      <td>35.897792</td>\n      <td>139.949556</td>\n    </tr>\n    <tr>\n      <th>67769</th>\n      <td>35.897792</td>\n      <td>139.949556</td>\n    </tr>\n    <tr>\n      <th>67770</th>\n      <td>35.897792</td>\n      <td>139.949556</td>\n    </tr>\n    <tr>\n      <th>67771</th>\n      <td>35.897792</td>\n      <td>139.949556</td>\n    </tr>\n    <tr>\n      <th>67772</th>\n      <td>35.897792</td>\n      <td>139.949556</td>\n    </tr>\n  </tbody>\n</table>\n<p>67773 rows × 2 columns</p>\n</div>"
     },
     "execution_count": 18,
     "metadata": {},
     "output_type": "execute_result"
    }
   ],
   "source": [
    "greens = green_box_state_df.apply(lambda row: mgrs_to_latlon_with_offset(row['MGRS_Code'], row['Local_X'], row['Local_Y']), axis=1)\n",
    "\n",
    "greens = pd.DataFrame(greens.tolist(), columns=['Latitude', 'Longitude'])\n",
    "\n",
    "\n",
    "greens"
   ],
   "metadata": {
    "collapsed": false,
    "pycharm": {
     "name": "#%%\n"
    }
   }
  },
  {
   "cell_type": "code",
   "execution_count": 19,
   "outputs": [
    {
     "data": {
      "text/plain": "       Latitude   Longitude\n0     35.901083  139.939566\n1     35.901321  139.939889\n2     35.901060  139.939534\n3     35.901306  139.939869\n4     35.901392  139.939983\n...         ...         ...\n6969  35.897788  139.949602\n6970  35.897788  139.949602\n6971  35.897788  139.949602\n6972  35.897788  139.949602\n6973  35.897788  139.949602\n\n[6974 rows x 2 columns]",
      "text/html": "<div>\n<style scoped>\n    .dataframe tbody tr th:only-of-type {\n        vertical-align: middle;\n    }\n\n    .dataframe tbody tr th {\n        vertical-align: top;\n    }\n\n    .dataframe thead th {\n        text-align: right;\n    }\n</style>\n<table border=\"1\" class=\"dataframe\">\n  <thead>\n    <tr style=\"text-align: right;\">\n      <th></th>\n      <th>Latitude</th>\n      <th>Longitude</th>\n    </tr>\n  </thead>\n  <tbody>\n    <tr>\n      <th>0</th>\n      <td>35.901083</td>\n      <td>139.939566</td>\n    </tr>\n    <tr>\n      <th>1</th>\n      <td>35.901321</td>\n      <td>139.939889</td>\n    </tr>\n    <tr>\n      <th>2</th>\n      <td>35.901060</td>\n      <td>139.939534</td>\n    </tr>\n    <tr>\n      <th>3</th>\n      <td>35.901306</td>\n      <td>139.939869</td>\n    </tr>\n    <tr>\n      <th>4</th>\n      <td>35.901392</td>\n      <td>139.939983</td>\n    </tr>\n    <tr>\n      <th>...</th>\n      <td>...</td>\n      <td>...</td>\n    </tr>\n    <tr>\n      <th>6969</th>\n      <td>35.897788</td>\n      <td>139.949602</td>\n    </tr>\n    <tr>\n      <th>6970</th>\n      <td>35.897788</td>\n      <td>139.949602</td>\n    </tr>\n    <tr>\n      <th>6971</th>\n      <td>35.897788</td>\n      <td>139.949602</td>\n    </tr>\n    <tr>\n      <th>6972</th>\n      <td>35.897788</td>\n      <td>139.949602</td>\n    </tr>\n    <tr>\n      <th>6973</th>\n      <td>35.897788</td>\n      <td>139.949602</td>\n    </tr>\n  </tbody>\n</table>\n<p>6974 rows × 2 columns</p>\n</div>"
     },
     "execution_count": 19,
     "metadata": {},
     "output_type": "execute_result"
    }
   ],
   "source": [
    "yellows"
   ],
   "metadata": {
    "collapsed": false,
    "pycharm": {
     "name": "#%%\n"
    }
   }
  },
  {
   "cell_type": "markdown",
   "source": [
    "# double color"
   ],
   "metadata": {
    "collapsed": false,
    "pycharm": {
     "name": "#%% md\n"
    }
   }
  },
  {
   "cell_type": "code",
   "execution_count": 21,
   "outputs": [],
   "source": [
    "# Define custom gradients for each heatmap\n",
    "gradient_color2 = {\n",
    "    0.2: 'red',\n",
    "    0.4: 'red',\n",
    "    0.6: 'red',\n",
    "    0.8: 'red',\n",
    "    1: 'red'\n",
    "}\n",
    "\n",
    "gradient_color1 = {\n",
    "    0.2: 'blue',\n",
    "    0.4: 'blue',\n",
    "    0.6: 'blue',\n",
    "    0.8: 'blue',\n",
    "    1: 'blue'\n",
    "}\n",
    "\n",
    "gradient_color3 = {\n",
    "    0.2: 'green',\n",
    "    0.4: 'green',\n",
    "    0.6: 'green',\n",
    "    0.8: 'green',\n",
    "    1: 'green'\n",
    "}"
   ],
   "metadata": {
    "collapsed": false,
    "pycharm": {
     "name": "#%%\n"
    }
   }
  },
  {
   "cell_type": "code",
   "execution_count": 25,
   "outputs": [],
   "source": [
    "import folium\n",
    "from folium.plugins import HeatMap\n",
    "import pandas as pd\n",
    "\n",
    "\n",
    "\n",
    "\n",
    "# df = pd.DataFrame(data)\n",
    "\n",
    "\n",
    "# Calculate the median location to center the map\n",
    "median_lat = yellows['Latitude'].median()\n",
    "median_long = yellows['Longitude'].median()\n",
    "\n",
    "# Create a base map\n",
    "map_osm = folium.Map(location=[median_lat, median_long], zoom_start=13)\n",
    "\n",
    "# Add a heatmap layer\n",
    "HeatMap(data=yellows[['Latitude', 'Longitude']], radius=10, blur=15, max_zoom=1,gradient=gradient_color1).add_to(map_osm)\n",
    "HeatMap(data=reds[['Latitude', 'Longitude']], radius=7, blur=10, max_zoom=1,gradient=gradient_color2).add_to(map_osm)\n",
    "\n",
    "# HeatMap(data=greens[['Latitude', 'Longitude']], radius=7, blur=10, max_zoom=1,gradient=gradient_color3).add_to(map_osm)\n",
    "\n",
    "\n",
    "# Display the map\n",
    "map_osm.save('heatmapWithBus v1_blues_reds.html')"
   ],
   "metadata": {
    "collapsed": false,
    "pycharm": {
     "name": "#%%\n"
    }
   }
  },
  {
   "cell_type": "code",
   "execution_count": null,
   "outputs": [],
   "source": [],
   "metadata": {
    "collapsed": false,
    "pycharm": {
     "name": "#%%\n"
    }
   }
  }
 ],
 "metadata": {
  "kernelspec": {
   "display_name": "Python 3",
   "language": "python",
   "name": "python3"
  },
  "language_info": {
   "codemirror_mode": {
    "name": "ipython",
    "version": 2
   },
   "file_extension": ".py",
   "mimetype": "text/x-python",
   "name": "python",
   "nbconvert_exporter": "python",
   "pygments_lexer": "ipython2",
   "version": "2.7.6"
  }
 },
 "nbformat": 4,
 "nbformat_minor": 0
}